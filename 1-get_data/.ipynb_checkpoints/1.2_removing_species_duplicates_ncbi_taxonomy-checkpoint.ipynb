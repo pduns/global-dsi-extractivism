{
 "cells": [
  {
   "cell_type": "code",
   "execution_count": 1,
   "id": "34711424",
   "metadata": {},
   "outputs": [
    {
     "name": "stderr",
     "output_type": "stream",
     "text": [
      "/home/erikz/miniconda3/envs/mgr/lib/python3.8/site-packages/scipy/__init__.py:146: UserWarning: A NumPy version >=1.16.5 and <1.23.0 is required for this version of SciPy (detected version 1.24.4\n",
      "  warnings.warn(f\"A NumPy version >={np_minversion} and <{np_maxversion}\"\n"
     ]
    }
   ],
   "source": [
    "import numpy as np\n",
    "import pandas as pd\n",
    "from Bio import Entrez  \n",
    "from Bio.Entrez import Parser \n",
    "from ete3 import NCBITaxa\n",
    "from concurrent.futures import ProcessPoolExecutor  "
   ]
  },
  {
   "cell_type": "markdown",
   "id": "8f5e9960",
   "metadata": {},
   "source": [
    "## Substract species info from raw data"
   ]
  },
  {
   "cell_type": "code",
   "execution_count": 2,
   "id": "3f901cc0",
   "metadata": {},
   "outputs": [],
   "source": [
    "wildsi_data_file = '../../data/2024-07-28_ena_sequences.csv'"
   ]
  },
  {
   "cell_type": "code",
   "execution_count": 3,
   "id": "7e1957a4",
   "metadata": {},
   "outputs": [
    {
     "name": "stdout",
     "output_type": "stream",
     "text": [
      "1\n",
      "2\n",
      "3\n",
      "4\n",
      "5\n",
      "6\n",
      "7\n",
      "8\n"
     ]
    }
   ],
   "source": [
    "chunksize = 5000000  # Adjust this size based on your system's memory constraints\n",
    "\n",
    "# Initialize a Counter to keep track of organism counts\n",
    "rows = []\n",
    "accessions = []\n",
    "countries = []\n",
    "coordinates = []\n",
    "species = []\n",
    "taxids = []\n",
    "tax_codes = []\n",
    "\n",
    "# Read the CSV in chunks\n",
    "nr = 1\n",
    "for chunk in pd.read_csv(wildsi_data_file, chunksize=chunksize, low_memory=False):\n",
    "    print(nr)\n",
    "    #print(chunk.head(2))\n",
    "    rows.append(len(list(chunk.index)))\n",
    "    accessions.extend(list(chunk['ACCESSION']))\n",
    "    countries.extend(list(chunk['COUNTRY']))\n",
    "    coordinates.extend(list(chunk['LAT_LON']))\n",
    "    species.extend(list(chunk['ORGANISM']))\n",
    "    taxids.extend(list(chunk['TAXID']))\n",
    "    tax_codes.extend(list(chunk['CODE']))\n",
    "    nr = nr +1"
   ]
  },
  {
   "cell_type": "code",
   "execution_count": 8,
   "id": "cd7cb6d7",
   "metadata": {},
   "outputs": [],
   "source": [
    "df_wildsi_species = pd.DataFrame(zip(accessions, countries,\n",
    "                             taxids, tax_codes, species),\n",
    "                          columns = ['ACCESSION','COUNTRY', 'TAXID', 'CODE', 'ORGANISM'])"
   ]
  },
  {
   "cell_type": "code",
   "execution_count": 10,
   "id": "6ed93ce0",
   "metadata": {},
   "outputs": [
    {
     "data": {
      "text/plain": [
       "CODE\n",
       "VRL    11026881\n",
       "INV     7710270\n",
       "ENV     4601217\n",
       "PLN     4303806\n",
       "VRT     3437288\n",
       "MAM     2201084\n",
       "FUN     1650075\n",
       "PRO     1425560\n",
       "ROD      210476\n",
       "HUM      157054\n",
       "PHG       28822\n",
       "MUS       10317\n",
       "UNC        5420\n",
       "SYN        1111\n",
       "TGN          66\n",
       "Name: count, dtype: int64"
      ]
     },
     "execution_count": 10,
     "metadata": {},
     "output_type": "execute_result"
    }
   ],
   "source": [
    "df_wildsi_species.CODE.value_counts()"
   ]
  },
  {
   "cell_type": "code",
   "execution_count": 9,
   "id": "83d81c03",
   "metadata": {},
   "outputs": [],
   "source": [
    "df_wildsi_species.to_csv('../../data/processed_data/2024-08-06_df_wildsi_species.csv')"
   ]
  },
  {
   "cell_type": "markdown",
   "id": "c2adf4a1",
   "metadata": {},
   "source": [
    "## Collect NCBI Taxonomy data with etetoolkit"
   ]
  },
  {
   "cell_type": "code",
   "execution_count": 4,
   "id": "3e3bda93",
   "metadata": {},
   "outputs": [],
   "source": [
    "df_wildsi_species = pd.read_csv('../../data/processed_data/2024-08-06_df_wildsi_species.csv')"
   ]
  },
  {
   "cell_type": "code",
   "execution_count": 5,
   "id": "2d914f43",
   "metadata": {},
   "outputs": [],
   "source": [
    "#df_wildsi_species[df_wildsi_species.CODE=='TGN'] #various organisms\n",
    "df_wildsi_species = df_wildsi_species[df_wildsi_species.TAXID.notna()]\n",
    "all_species_ncbi_ids = df_wildsi_species.TAXID.astype(int).drop_duplicates().to_list()"
   ]
  },
  {
   "cell_type": "markdown",
   "id": "430fd3dd",
   "metadata": {},
   "source": [
    "### The total number of unique species, unprocessed"
   ]
  },
  {
   "cell_type": "code",
   "execution_count": 6,
   "id": "bdeecb07",
   "metadata": {},
   "outputs": [
    {
     "data": {
      "text/plain": [
       "1532757"
      ]
     },
     "execution_count": 6,
     "metadata": {},
     "output_type": "execute_result"
    }
   ],
   "source": [
    "len(all_species_ncbi_ids)"
   ]
  },
  {
   "cell_type": "code",
   "execution_count": 9,
   "id": "fb96dcb9",
   "metadata": {},
   "outputs": [],
   "source": [
    "species_names = {}\n",
    "norank_names = {}\n",
    "superkingdom_names = {}\n",
    "taxonomic_lineages = {}\n",
    "\n",
    "# Initialize NCBITaxa  \n",
    "ncbi = NCBITaxa()\n",
    "\n",
    "try:    \n",
    "    for taxid in all_species_ncbi_ids:\n",
    "\n",
    "        # Get the species name  \n",
    "        species_name = ncbi.get_taxid_translator([taxid])[taxid]\n",
    "        species_names[taxid] = species_name\n",
    "\n",
    "        # Get the taxonomic lineage  \n",
    "        taxonomic_lineage = ncbi.get_lineage(taxid)  \n",
    "        taxonomic_lineages[taxid] = taxonomic_lineage\n",
    "\n",
    "        norank_name = ncbi.get_taxid_translator([taxonomic_lineage[1]])[taxonomic_lineage[1]]\n",
    "        norank_names[taxid] = norank_name\n",
    "\n",
    "        superkingdom_name = ncbi.get_taxid_translator([taxonomic_lineage[2]])[taxonomic_lineage[2]]\n",
    "        superkingdom_names[taxid] = superkingdom_name\n",
    "except KeyError:\n",
    "    pass"
   ]
  },
  {
   "cell_type": "code",
   "execution_count": 10,
   "id": "760808a1",
   "metadata": {},
   "outputs": [
    {
     "name": "stdout",
     "output_type": "stream",
     "text": [
      "{'other entries', 'unclassified entries', 'cellular organisms', 'Viruses'}\n"
     ]
    }
   ],
   "source": [
    "unique_values = set(norank_names.values())  \n",
    "print(unique_values) "
   ]
  },
  {
   "cell_type": "code",
   "execution_count": 11,
   "id": "f4b98e91",
   "metadata": {},
   "outputs": [
    {
     "name": "stdout",
     "output_type": "stream",
     "text": [
      "{'Monodnaviria', 'Naldaviricetes', 'Alphasatellitidae', 'Archaea', 'unclassified sequences', 'other sequences', 'Satellites', 'unclassified bacterial viruses', 'Tolecusatellitidae', 'Bacteria', 'Pospiviroidae', 'Duplodnaviria', 'unclassified viruses', 'Riboviria', 'environmental samples', 'Adnaviria', 'Eukaryota', 'Polydnaviriformidae', 'Avsunviroidae', 'Anelloviridae', 'Varidnaviria', 'Thaspiviridae', 'Ribozyviria'}\n"
     ]
    }
   ],
   "source": [
    "unique_values = set(superkingdom_names.values())  \n",
    "print(unique_values) "
   ]
  },
  {
   "cell_type": "code",
   "execution_count": 12,
   "id": "2e7e421a",
   "metadata": {},
   "outputs": [],
   "source": [
    "wildsi_species_with_ncbi_domains = {}\n",
    "\n",
    "for taxid in all_species_ncbi_ids:\n",
    "    try:   \n",
    "        if norank_names[taxid] == 'cellular organisms':\n",
    "            wildsi_species_with_ncbi_domains[taxid] = superkingdom_names[taxid]\n",
    "        elif norank_names[taxid] == 'Viruses':\n",
    "            wildsi_species_with_ncbi_domains[taxid] = 'Viruses'\n",
    "        else:\n",
    "            wildsi_species_with_ncbi_domains[taxid] = superkingdom_names[taxid]\n",
    "    except KeyError:\n",
    "        pass\n",
    "        "
   ]
  },
  {
   "cell_type": "code",
   "execution_count": 13,
   "id": "2c8eb23d",
   "metadata": {},
   "outputs": [
    {
     "name": "stdout",
     "output_type": "stream",
     "text": [
      "{'unclassified sequences', 'other sequences', 'Viruses', 'Archaea', 'Bacteria', 'Eukaryota'}\n"
     ]
    }
   ],
   "source": [
    "unique_values = set(wildsi_species_with_ncbi_domains.values())  \n",
    "print(unique_values) "
   ]
  },
  {
   "cell_type": "code",
   "execution_count": 14,
   "id": "01986700",
   "metadata": {},
   "outputs": [],
   "source": [
    "df_wildsi_species['NCBI_taxa'] = df_wildsi_species['TAXID'].map(wildsi_species_with_ncbi_domains)"
   ]
  },
  {
   "cell_type": "code",
   "execution_count": 15,
   "id": "273b6f1e",
   "metadata": {},
   "outputs": [],
   "source": [
    "df_wildsi_species['NCBI_species'] = df_wildsi_species['TAXID'].map(species_names)"
   ]
  },
  {
   "cell_type": "code",
   "execution_count": 16,
   "id": "ed97cfc5",
   "metadata": {},
   "outputs": [],
   "source": [
    "df_wildsi_species.to_csv('../../data/processed_data/2024-08-06_df_wildsi_species_ncbi_domains.csv')"
   ]
  },
  {
   "cell_type": "markdown",
   "id": "599178f9",
   "metadata": {},
   "source": [
    "## Remove duplicates and save updated species list"
   ]
  },
  {
   "cell_type": "code",
   "execution_count": null,
   "id": "4197a9a4",
   "metadata": {},
   "outputs": [],
   "source": [
    "df_wildsi_species = pd.read_csv('../../data/processed_data/2024-08-06_df_wildsi_species_ncbi_domains.csv')"
   ]
  },
  {
   "cell_type": "code",
   "execution_count": null,
   "id": "28f63349",
   "metadata": {},
   "outputs": [],
   "source": [
    "df_wildsi_species"
   ]
  },
  {
   "cell_type": "code",
   "execution_count": 4,
   "id": "69ca9fcf",
   "metadata": {},
   "outputs": [],
   "source": [
    "df_wildsi_species = df_wildsi_species[['ACCESSION', 'TAXID', 'NCBI_taxa', 'NCBI_species']]"
   ]
  },
  {
   "cell_type": "code",
   "execution_count": 8,
   "id": "c24f43d4",
   "metadata": {},
   "outputs": [],
   "source": [
    "#df_wildsi_species = df_wildsi_species.head(1000000)"
   ]
  },
  {
   "cell_type": "code",
   "execution_count": 9,
   "id": "cc41dc9a",
   "metadata": {},
   "outputs": [],
   "source": [
    "#df_wildsi_species = df_wildsi_species.sort_values(by='NCBI_species', ascending=False)"
   ]
  },
  {
   "cell_type": "code",
   "execution_count": 10,
   "id": "f71cdeb1",
   "metadata": {},
   "outputs": [],
   "source": [
    "#df_wildsi_species[df_wildsi_species.NCBI_taxa=='other sequences'].NCBI_species.drop_duplicates().to_list()"
   ]
  },
  {
   "cell_type": "markdown",
   "id": "d23d102b",
   "metadata": {},
   "source": [
    "### Pseudocode to remove duplicates"
   ]
  },
  {
   "cell_type": "code",
   "execution_count": 11,
   "id": "61b7e79f",
   "metadata": {},
   "outputs": [],
   "source": [
    "#Archaea\n",
    "#if first word starts with uncultured\n",
    "#if second word doesn't start with capital letter:\n",
    "#change species to \"unidentified Archaeon\"\n",
    "#else\n",
    "#change species name to first plus second word\n",
    "#else\n",
    "#if first word starts with Candidatus\n",
    "#change species name to second plus third word\n",
    "#else\n",
    "#change species name to first plus second word\n",
    "\n",
    "#Bacteria\n",
    "#if first word starts with uncultured or unidentified\n",
    "#if second word doesn't start with capital letter:\n",
    "#change species to \"unidentified Bacterium\"\n",
    "#else\n",
    "#change species name to first plus second word\n",
    "#if first word doesn't start with capital letter\n",
    "#change species name to \"unidentified Bacterium\"\n",
    "#else\n",
    "#if first word starts with Candidatus\n",
    "#change species name to second plus third word\n",
    "#else\n",
    "#change species name to first plus second word\n",
    "\n",
    "#Viruses\n",
    "#keep as it is\n",
    "\n",
    "#Eukaryota\n",
    "#if first word starts with uncultured\n",
    "#if second word doesn't start with capital letter:\n",
    "#change species to \"unidentified Eukaryon\"\n",
    "#else\n",
    "#change species name to first word plus 'sp'\n",
    "#if first word starts with cf.\n",
    "#change species name to second plus third word\n",
    "#if first word starts with [\n",
    "#delete first and last symbols from first word and change species name to first plus second word\n",
    "#else\n",
    "#change species name to first plus second word\n",
    "\n",
    "#unclassified sequences\n",
    "#change species name to 'Unidentified'\n",
    "\n",
    "#other sequences\n",
    "#change species name to 'Unidentified'\n",
    "\n"
   ]
  },
  {
   "cell_type": "code",
   "execution_count": 7,
   "id": "4762301f",
   "metadata": {},
   "outputs": [],
   "source": [
    "def update_species_name(df, chunksize=1000000):  \n",
    "    chunks = np.array_split(df, len(df) // chunksize + 1)  \n",
    "    updated_chunks = []  \n",
    "    for chunk in chunks:  \n",
    "        chunk['NCBI_species_name'] = chunk.apply(lambda row: update_species(row['NCBI_taxa'], row['NCBI_species']), axis=1)  \n",
    "        updated_chunks.append(chunk)  \n",
    "    return pd.concat(updated_chunks, ignore_index=True)  \n",
    "\n",
    "def update_species(taxa, species):  \n",
    "    if pd.isnull(species) or not isinstance(species, str):  \n",
    "        return 'Unidentified'  \n",
    "    \n",
    "    words = species.split()  \n",
    "    \n",
    "    if taxa == 'Archaea':  \n",
    "        if words[0].startswith('uncultured'):  \n",
    "            if not words[1][0].isupper():  \n",
    "                return 'unidentified Archaeon'  \n",
    "            else:  \n",
    "                return ' '.join(words[:2])  \n",
    "        elif words[0].startswith('Candidatus'):  \n",
    "            return ' '.join(words[1:3])  \n",
    "        else:  \n",
    "            return ' '.join(words[:2])  \n",
    "            \n",
    "    elif taxa == 'Bacteria':  \n",
    "        if words[0].startswith(('uncultured', 'unidentified')):  \n",
    "            if not words[1][0].isupper():  \n",
    "                return 'unidentified Bacterium'  \n",
    "            else:  \n",
    "                return ' '.join(words[:2])  \n",
    "        elif not words[0][0].isupper():  \n",
    "            return 'unidentified Bacterium'  \n",
    "        elif words[0].startswith('Candidatus'):  \n",
    "            return ' '.join(words[1:3])  \n",
    "        else:  \n",
    "            return ' '.join(words[:2])  \n",
    "            \n",
    "    elif taxa == 'Viruses':  \n",
    "        return species  \n",
    "            \n",
    "    elif taxa == 'Eukaryota':  \n",
    "        if words[0].startswith('uncultured'):  \n",
    "            if not words[1][0].isupper():  \n",
    "                return 'unidentified Eukaryon'  \n",
    "            else:  \n",
    "                return words[0] + ' sp'  \n",
    "        elif words[0].startswith('cf.'):  \n",
    "            return ' '.join(words[1:3])  \n",
    "        elif words[0].startswith('['):  \n",
    "            return ' '.join([words[0][1:-1]] + words[1:2])  \n",
    "        else:  \n",
    "            return ' '.join(words[:2])  \n",
    "            \n",
    "    elif taxa in ['unclassified sequences', 'other sequences']:  \n",
    "        return 'Unidentified'  \n",
    "        \n",
    "    else:  \n",
    "        return species  \n",
    "    \n",
    "def update_domain_name(df):  \n",
    "    df['NCBI_domain_name'] = df['NCBI_taxa'].apply(lambda x: 'Unidentified' if x in ['unclassified sequences', 'other sequences'] else x)  \n",
    "    return df  "
   ]
  },
  {
   "cell_type": "code",
   "execution_count": 8,
   "id": "867db090",
   "metadata": {},
   "outputs": [],
   "source": [
    "df_wildsi_species_updated = update_species_name(df_wildsi_species) "
   ]
  },
  {
   "cell_type": "code",
   "execution_count": 9,
   "id": "0dd7c9a1",
   "metadata": {},
   "outputs": [],
   "source": [
    "df_wildsi_species = update_domain_name(df_wildsi_species_updated)"
   ]
  },
  {
   "cell_type": "markdown",
   "id": "225abbef",
   "metadata": {},
   "source": [
    "### The total number of unique species, filtered"
   ]
  },
  {
   "cell_type": "code",
   "execution_count": 10,
   "id": "97b8a9a5",
   "metadata": {},
   "outputs": [],
   "source": [
    "df_wildsi_species = df_wildsi_species[['TAXID', 'NCBI_domain_name', 'NCBI_species_name']]"
   ]
  },
  {
   "cell_type": "code",
   "execution_count": 13,
   "id": "911f6f7f",
   "metadata": {},
   "outputs": [
    {
     "name": "stderr",
     "output_type": "stream",
     "text": [
      "/tmp/ipykernel_128037/2028396217.py:1: SettingWithCopyWarning: \n",
      "A value is trying to be set on a copy of a slice from a DataFrame.\n",
      "Try using .loc[row_indexer,col_indexer] = value instead\n",
      "\n",
      "See the caveats in the documentation: https://pandas.pydata.org/pandas-docs/stable/user_guide/indexing.html#returning-a-view-versus-a-copy\n",
      "  df_wildsi_species.TAXID = df_wildsi_species.TAXID.astype(int)\n"
     ]
    }
   ],
   "source": [
    "df_wildsi_species.TAXID = df_wildsi_species.TAXID.astype(int)\n",
    "df_wildsi_species = df_wildsi_species.drop_duplicates()"
   ]
  },
  {
   "cell_type": "code",
   "execution_count": 14,
   "id": "5f95050d",
   "metadata": {},
   "outputs": [
    {
     "data": {
      "text/plain": [
       "NCBI_domain_name\n",
       "Eukaryota       33259\n",
       "Bacteria         4937\n",
       "Viruses          4684\n",
       "Archaea           147\n",
       "Unidentified       18\n",
       "Name: count, dtype: int64"
      ]
     },
     "execution_count": 14,
     "metadata": {},
     "output_type": "execute_result"
    }
   ],
   "source": [
    "df_wildsi_species.NCBI_domain_name.value_counts()"
   ]
  },
  {
   "cell_type": "code",
   "execution_count": 16,
   "id": "904cd31f",
   "metadata": {},
   "outputs": [
    {
     "data": {
      "text/html": [
       "<div>\n",
       "<style scoped>\n",
       "    .dataframe tbody tr th:only-of-type {\n",
       "        vertical-align: middle;\n",
       "    }\n",
       "\n",
       "    .dataframe tbody tr th {\n",
       "        vertical-align: top;\n",
       "    }\n",
       "\n",
       "    .dataframe thead th {\n",
       "        text-align: right;\n",
       "    }\n",
       "</style>\n",
       "<table border=\"1\" class=\"dataframe\">\n",
       "  <thead>\n",
       "    <tr style=\"text-align: right;\">\n",
       "      <th></th>\n",
       "      <th>TAXID</th>\n",
       "      <th>NCBI_domain_name</th>\n",
       "      <th>NCBI_species_name</th>\n",
       "    </tr>\n",
       "  </thead>\n",
       "  <tbody>\n",
       "    <tr>\n",
       "      <th>267285</th>\n",
       "      <td>1026341</td>\n",
       "      <td>NaN</td>\n",
       "      <td>Unidentified</td>\n",
       "    </tr>\n",
       "    <tr>\n",
       "      <th>267292</th>\n",
       "      <td>1812256</td>\n",
       "      <td>NaN</td>\n",
       "      <td>Unidentified</td>\n",
       "    </tr>\n",
       "    <tr>\n",
       "      <th>267295</th>\n",
       "      <td>370543</td>\n",
       "      <td>NaN</td>\n",
       "      <td>Unidentified</td>\n",
       "    </tr>\n",
       "    <tr>\n",
       "      <th>267302</th>\n",
       "      <td>52163</td>\n",
       "      <td>NaN</td>\n",
       "      <td>Unidentified</td>\n",
       "    </tr>\n",
       "    <tr>\n",
       "      <th>267322</th>\n",
       "      <td>1565112</td>\n",
       "      <td>NaN</td>\n",
       "      <td>Unidentified</td>\n",
       "    </tr>\n",
       "    <tr>\n",
       "      <th>...</th>\n",
       "      <td>...</td>\n",
       "      <td>...</td>\n",
       "      <td>...</td>\n",
       "    </tr>\n",
       "    <tr>\n",
       "      <th>36753961</th>\n",
       "      <td>2925717</td>\n",
       "      <td>NaN</td>\n",
       "      <td>Unidentified</td>\n",
       "    </tr>\n",
       "    <tr>\n",
       "      <th>36756677</th>\n",
       "      <td>2925237</td>\n",
       "      <td>NaN</td>\n",
       "      <td>Unidentified</td>\n",
       "    </tr>\n",
       "    <tr>\n",
       "      <th>36757813</th>\n",
       "      <td>2893375</td>\n",
       "      <td>NaN</td>\n",
       "      <td>Unidentified</td>\n",
       "    </tr>\n",
       "    <tr>\n",
       "      <th>36760498</th>\n",
       "      <td>2905984</td>\n",
       "      <td>NaN</td>\n",
       "      <td>Unidentified</td>\n",
       "    </tr>\n",
       "    <tr>\n",
       "      <th>36763924</th>\n",
       "      <td>1838057</td>\n",
       "      <td>NaN</td>\n",
       "      <td>Unidentified</td>\n",
       "    </tr>\n",
       "  </tbody>\n",
       "</table>\n",
       "<p>1489712 rows × 3 columns</p>\n",
       "</div>"
      ],
      "text/plain": [
       "            TAXID NCBI_domain_name NCBI_species_name\n",
       "267285    1026341              NaN      Unidentified\n",
       "267292    1812256              NaN      Unidentified\n",
       "267295     370543              NaN      Unidentified\n",
       "267302      52163              NaN      Unidentified\n",
       "267322    1565112              NaN      Unidentified\n",
       "...           ...              ...               ...\n",
       "36753961  2925717              NaN      Unidentified\n",
       "36756677  2925237              NaN      Unidentified\n",
       "36757813  2893375              NaN      Unidentified\n",
       "36760498  2905984              NaN      Unidentified\n",
       "36763924  1838057              NaN      Unidentified\n",
       "\n",
       "[1489712 rows x 3 columns]"
      ]
     },
     "execution_count": 16,
     "metadata": {},
     "output_type": "execute_result"
    }
   ],
   "source": [
    "df_wildsi_species[df_wildsi_species.NCBI_domain_name.isna()]"
   ]
  },
  {
   "cell_type": "code",
   "execution_count": 17,
   "id": "0217fc5b",
   "metadata": {},
   "outputs": [
    {
     "data": {
      "text/html": [
       "<div>\n",
       "<style scoped>\n",
       "    .dataframe tbody tr th:only-of-type {\n",
       "        vertical-align: middle;\n",
       "    }\n",
       "\n",
       "    .dataframe tbody tr th {\n",
       "        vertical-align: top;\n",
       "    }\n",
       "\n",
       "    .dataframe thead th {\n",
       "        text-align: right;\n",
       "    }\n",
       "</style>\n",
       "<table border=\"1\" class=\"dataframe\">\n",
       "  <thead>\n",
       "    <tr style=\"text-align: right;\">\n",
       "      <th></th>\n",
       "      <th>TAXID</th>\n",
       "      <th>NCBI_domain_name</th>\n",
       "      <th>NCBI_species_name</th>\n",
       "    </tr>\n",
       "  </thead>\n",
       "  <tbody>\n",
       "    <tr>\n",
       "      <th>0</th>\n",
       "      <td>2132616</td>\n",
       "      <td>Eukaryota</td>\n",
       "      <td>Delia sp.</td>\n",
       "    </tr>\n",
       "    <tr>\n",
       "      <th>1</th>\n",
       "      <td>2697049</td>\n",
       "      <td>Viruses</td>\n",
       "      <td>Severe acute respiratory syndrome coronavirus 2</td>\n",
       "    </tr>\n",
       "    <tr>\n",
       "      <th>2</th>\n",
       "      <td>1312858</td>\n",
       "      <td>Viruses</td>\n",
       "      <td>Influenza A virus (A/swine/Ohio/A01349485/2013...</td>\n",
       "    </tr>\n",
       "    <tr>\n",
       "      <th>3</th>\n",
       "      <td>1472648</td>\n",
       "      <td>Eukaryota</td>\n",
       "      <td>Aquilaria agallochum</td>\n",
       "    </tr>\n",
       "    <tr>\n",
       "      <th>6</th>\n",
       "      <td>36312</td>\n",
       "      <td>Eukaryota</td>\n",
       "      <td>Hynobius retardatus</td>\n",
       "    </tr>\n",
       "    <tr>\n",
       "      <th>...</th>\n",
       "      <td>...</td>\n",
       "      <td>...</td>\n",
       "      <td>...</td>\n",
       "    </tr>\n",
       "    <tr>\n",
       "      <th>36753961</th>\n",
       "      <td>2925717</td>\n",
       "      <td>NaN</td>\n",
       "      <td>Unidentified</td>\n",
       "    </tr>\n",
       "    <tr>\n",
       "      <th>36756677</th>\n",
       "      <td>2925237</td>\n",
       "      <td>NaN</td>\n",
       "      <td>Unidentified</td>\n",
       "    </tr>\n",
       "    <tr>\n",
       "      <th>36757813</th>\n",
       "      <td>2893375</td>\n",
       "      <td>NaN</td>\n",
       "      <td>Unidentified</td>\n",
       "    </tr>\n",
       "    <tr>\n",
       "      <th>36760498</th>\n",
       "      <td>2905984</td>\n",
       "      <td>NaN</td>\n",
       "      <td>Unidentified</td>\n",
       "    </tr>\n",
       "    <tr>\n",
       "      <th>36763924</th>\n",
       "      <td>1838057</td>\n",
       "      <td>NaN</td>\n",
       "      <td>Unidentified</td>\n",
       "    </tr>\n",
       "  </tbody>\n",
       "</table>\n",
       "<p>1532757 rows × 3 columns</p>\n",
       "</div>"
      ],
      "text/plain": [
       "            TAXID NCBI_domain_name  \\\n",
       "0         2132616        Eukaryota   \n",
       "1         2697049          Viruses   \n",
       "2         1312858          Viruses   \n",
       "3         1472648        Eukaryota   \n",
       "6           36312        Eukaryota   \n",
       "...           ...              ...   \n",
       "36753961  2925717              NaN   \n",
       "36756677  2925237              NaN   \n",
       "36757813  2893375              NaN   \n",
       "36760498  2905984              NaN   \n",
       "36763924  1838057              NaN   \n",
       "\n",
       "                                          NCBI_species_name  \n",
       "0                                                 Delia sp.  \n",
       "1           Severe acute respiratory syndrome coronavirus 2  \n",
       "2         Influenza A virus (A/swine/Ohio/A01349485/2013...  \n",
       "3                                      Aquilaria agallochum  \n",
       "6                                       Hynobius retardatus  \n",
       "...                                                     ...  \n",
       "36753961                                       Unidentified  \n",
       "36756677                                       Unidentified  \n",
       "36757813                                       Unidentified  \n",
       "36760498                                       Unidentified  \n",
       "36763924                                       Unidentified  \n",
       "\n",
       "[1532757 rows x 3 columns]"
      ]
     },
     "execution_count": 17,
     "metadata": {},
     "output_type": "execute_result"
    }
   ],
   "source": [
    "df_wildsi_species"
   ]
  },
  {
   "cell_type": "code",
   "execution_count": 18,
   "id": "4d46fcb1",
   "metadata": {},
   "outputs": [],
   "source": [
    "df_wildsi_species.to_csv('../../data/processed_data/2024-08-06_df_wildsi_species_with_domain_no_dups.csv')"
   ]
  },
  {
   "cell_type": "code",
   "execution_count": null,
   "id": "0aabbb8d",
   "metadata": {},
   "outputs": [],
   "source": []
  },
  {
   "cell_type": "markdown",
   "id": "3aabe26c",
   "metadata": {},
   "source": [
    "## Collect NCBI Taxonomy data with biopython"
   ]
  },
  {
   "cell_type": "code",
   "execution_count": 2,
   "id": "6d394a34",
   "metadata": {},
   "outputs": [],
   "source": [
    "df_wildsi_species = pd.read_csv('../../data/processed_data/2024-08-06_df_wildsi_species.csv')\n",
    "#df_wildsi_species[df_wildsi_species.CODE=='TGN'] #various organisms\n",
    "df_wildsi_species = df_wildsi_species[df_wildsi_species.TAXID.notna()]\n",
    "all_species_ncbi_ids = df_wildsi_species.TAXID.astype(int).drop_duplicates().to_list()"
   ]
  },
  {
   "cell_type": "code",
   "execution_count": 3,
   "id": "dae44b3e",
   "metadata": {},
   "outputs": [],
   "source": [
    "all_species_ncbi_ids_test = all_species_ncbi_ids[0:1500]\n",
    "with open('taxids_file_test.csv', 'w') as text_file:  \n",
    "    for item in all_species_ncbi_ids_test:  \n",
    "        text_file.write(f\"{item}\\n\")  "
   ]
  },
  {
   "cell_type": "code",
   "execution_count": 4,
   "id": "8a5f59cc",
   "metadata": {},
   "outputs": [],
   "source": [
    "with open('taxids_file_full_list.csv', 'w') as text_file:  \n",
    "    for item in all_species_ncbi_ids:  \n",
    "        text_file.write(f\"{item}\\n\")  "
   ]
  },
  {
   "cell_type": "code",
   "execution_count": 3,
   "id": "c45dfc65",
   "metadata": {},
   "outputs": [],
   "source": [
    "from Bio import Entrez  \n",
    "import time  \n",
    "import random  \n",
    "\n",
    "# Initialize Entrez  \n",
    "Entrez.email = \"homo.korvin@gmail.com\"  # Replace with your email  \n",
    "\n",
    "def parse_ncbi_taxids(taxid):  \n",
    "    try:  \n",
    "        # Get the species name and taxonomic lineage  \n",
    "        handle = Entrez.efetch(db='taxonomy', id=taxid, retmode='xml')  \n",
    "        record = Entrez.read(handle)  \n",
    "        handle.close()  \n",
    "        species_name = record[0]['ScientificName']  \n",
    "        \n",
    "        taxonomic_lineage = []  \n",
    "        for rank in record[0]['LineageEx']:  \n",
    "            taxonomic_unit = rank['Rank'] if rank['Rank'] != '' else 'no rank'  \n",
    "            taxonomic_name = rank['ScientificName']  \n",
    "            taxonomic_lineage.append((taxonomic_unit, taxonomic_name))  \n",
    "            \n",
    "        # Extract the superkingdom  \n",
    "        species_domain = None  \n",
    "        for unit, name in taxonomic_lineage:  \n",
    "            if unit == 'superkingdom':  \n",
    "                species_domain = name  \n",
    "                break  \n",
    "        \n",
    "        # Return results  \n",
    "        return species_domain, species_name, taxonomic_lineage\n",
    "\n",
    "    except Exception as e:  \n",
    "        print(f\"An error occurred: {e}\")  \n",
    "        return None, None, None\n",
    "\n",
    "def batch_parse_ncbi_taxids(taxid_list):  \n",
    "    species_names = {}\n",
    "    domain_names = {}\n",
    "    taxonomic_lineages = {}\n",
    "    \n",
    "    for taxid in taxid_list:  \n",
    "        result = parse_ncbi_taxids(taxid)  \n",
    "        \n",
    "        if result:  \n",
    "            \n",
    "            species_names[taxid] = result[0]\n",
    "            domain_names[taxid] = result[1]\n",
    "            taxonomic_lineages[taxid] = result[2]\n",
    "        # Add random sleep to lessen the chance of being banned  \n",
    "        time.sleep(random.uniform(0.5, 2.0))  \n",
    "        \n",
    "    return species_names, domain_names, taxonomic_lineages"
   ]
  },
  {
   "cell_type": "code",
   "execution_count": 5,
   "id": "f00c237f",
   "metadata": {},
   "outputs": [
    {
     "name": "stdout",
     "output_type": "stream",
     "text": [
      "An error occurred: HTTP Error 400: Bad Request\n",
      "An error occurred: HTTP Error 400: Bad Request\n",
      "An error occurred: HTTP Error 400: Bad Request\n",
      "An error occurred: IncompleteRead(1862 bytes read)\n",
      "An error occurred: HTTP Error 400: Bad Request\n",
      "An error occurred: HTTP Error 400: Bad Request\n",
      "An error occurred: HTTP Error 400: Bad Request\n",
      "An error occurred: HTTP Error 400: Bad Request\n",
      "An error occurred: HTTP Error 400: Bad Request\n",
      "An error occurred: HTTP Error 400: Bad Request\n",
      "An error occurred: HTTP Error 400: Bad Request\n",
      "An error occurred: HTTP Error 400: Bad Request\n"
     ]
    },
    {
     "ename": "KeyboardInterrupt",
     "evalue": "",
     "output_type": "error",
     "traceback": [
      "\u001b[0;31m---------------------------------------------------------------------------\u001b[0m",
      "\u001b[0;31mKeyboardInterrupt\u001b[0m                         Traceback (most recent call last)",
      "Input \u001b[0;32mIn [5]\u001b[0m, in \u001b[0;36m<cell line: 6>\u001b[0;34m()\u001b[0m\n\u001b[1;32m      3\u001b[0m \u001b[38;5;28;01mimport\u001b[39;00m \u001b[38;5;21;01mtime\u001b[39;00m  \n\u001b[1;32m      5\u001b[0m start_time \u001b[38;5;241m=\u001b[39m time\u001b[38;5;241m.\u001b[39mprocess_time()  \n\u001b[0;32m----> 6\u001b[0m results \u001b[38;5;241m=\u001b[39m \u001b[43mbatch_parse_ncbi_taxids\u001b[49m\u001b[43m(\u001b[49m\u001b[43mall_species_ncbi_ids\u001b[49m\u001b[43m)\u001b[49m\n\u001b[1;32m      7\u001b[0m end_time \u001b[38;5;241m=\u001b[39m time\u001b[38;5;241m.\u001b[39mprocess_time()  \n\u001b[1;32m      9\u001b[0m \u001b[38;5;28mprint\u001b[39m(\u001b[38;5;124mf\u001b[39m\u001b[38;5;124m\"\u001b[39m\u001b[38;5;124mExecution time: \u001b[39m\u001b[38;5;132;01m{\u001b[39;00mend_time \u001b[38;5;241m-\u001b[39m start_time\u001b[38;5;132;01m}\u001b[39;00m\u001b[38;5;124m seconds\u001b[39m\u001b[38;5;124m\"\u001b[39m)\n",
      "Input \u001b[0;32mIn [3]\u001b[0m, in \u001b[0;36mbatch_parse_ncbi_taxids\u001b[0;34m(taxid_list)\u001b[0m\n\u001b[1;32m     39\u001b[0m taxonomic_lineages \u001b[38;5;241m=\u001b[39m {}\n\u001b[1;32m     41\u001b[0m \u001b[38;5;28;01mfor\u001b[39;00m taxid \u001b[38;5;129;01min\u001b[39;00m taxid_list:  \n\u001b[0;32m---> 42\u001b[0m     result \u001b[38;5;241m=\u001b[39m \u001b[43mparse_ncbi_taxids\u001b[49m\u001b[43m(\u001b[49m\u001b[43mtaxid\u001b[49m\u001b[43m)\u001b[49m  \n\u001b[1;32m     44\u001b[0m     \u001b[38;5;28;01mif\u001b[39;00m result:  \n\u001b[1;32m     46\u001b[0m         species_names[taxid] \u001b[38;5;241m=\u001b[39m result[\u001b[38;5;241m0\u001b[39m]\n",
      "Input \u001b[0;32mIn [3]\u001b[0m, in \u001b[0;36mparse_ncbi_taxids\u001b[0;34m(taxid)\u001b[0m\n\u001b[1;32m      8\u001b[0m \u001b[38;5;28;01mdef\u001b[39;00m \u001b[38;5;21mparse_ncbi_taxids\u001b[39m(taxid):  \n\u001b[1;32m      9\u001b[0m     \u001b[38;5;28;01mtry\u001b[39;00m:  \n\u001b[1;32m     10\u001b[0m         \u001b[38;5;66;03m# Get the species name and taxonomic lineage  \u001b[39;00m\n\u001b[0;32m---> 11\u001b[0m         handle \u001b[38;5;241m=\u001b[39m \u001b[43mEntrez\u001b[49m\u001b[38;5;241;43m.\u001b[39;49m\u001b[43mefetch\u001b[49m\u001b[43m(\u001b[49m\u001b[43mdb\u001b[49m\u001b[38;5;241;43m=\u001b[39;49m\u001b[38;5;124;43m'\u001b[39;49m\u001b[38;5;124;43mtaxonomy\u001b[39;49m\u001b[38;5;124;43m'\u001b[39;49m\u001b[43m,\u001b[49m\u001b[43m \u001b[49m\u001b[38;5;28;43mid\u001b[39;49m\u001b[38;5;241;43m=\u001b[39;49m\u001b[43mtaxid\u001b[49m\u001b[43m,\u001b[49m\u001b[43m \u001b[49m\u001b[43mretmode\u001b[49m\u001b[38;5;241;43m=\u001b[39;49m\u001b[38;5;124;43m'\u001b[39;49m\u001b[38;5;124;43mxml\u001b[39;49m\u001b[38;5;124;43m'\u001b[39;49m\u001b[43m)\u001b[49m  \n\u001b[1;32m     12\u001b[0m         record \u001b[38;5;241m=\u001b[39m Entrez\u001b[38;5;241m.\u001b[39mread(handle)  \n\u001b[1;32m     13\u001b[0m         handle\u001b[38;5;241m.\u001b[39mclose()  \n",
      "File \u001b[0;32m~/miniconda3/envs/mgr/lib/python3.8/site-packages/Bio/Entrez/__init__.py:207\u001b[0m, in \u001b[0;36mefetch\u001b[0;34m(db, **keywords)\u001b[0m\n\u001b[1;32m    203\u001b[0m     \u001b[38;5;28;01mif\u001b[39;00m ids\u001b[38;5;241m.\u001b[39mcount(\u001b[38;5;124m\"\u001b[39m\u001b[38;5;124m,\u001b[39m\u001b[38;5;124m\"\u001b[39m) \u001b[38;5;241m>\u001b[39m\u001b[38;5;241m=\u001b[39m \u001b[38;5;241m200\u001b[39m:\n\u001b[1;32m    204\u001b[0m         \u001b[38;5;66;03m# NCBI prefers an HTTP POST instead of an HTTP GET if there are\u001b[39;00m\n\u001b[1;32m    205\u001b[0m         \u001b[38;5;66;03m# more than about 200 IDs\u001b[39;00m\n\u001b[1;32m    206\u001b[0m         post \u001b[38;5;241m=\u001b[39m \u001b[38;5;28;01mTrue\u001b[39;00m\n\u001b[0;32m--> 207\u001b[0m \u001b[38;5;28;01mreturn\u001b[39;00m \u001b[43m_open\u001b[49m\u001b[43m(\u001b[49m\u001b[43mcgi\u001b[49m\u001b[43m,\u001b[49m\u001b[43m \u001b[49m\u001b[43mvariables\u001b[49m\u001b[43m,\u001b[49m\u001b[43m \u001b[49m\u001b[43mpost\u001b[49m\u001b[38;5;241;43m=\u001b[39;49m\u001b[43mpost\u001b[49m\u001b[43m)\u001b[49m\n",
      "File \u001b[0;32m~/miniconda3/envs/mgr/lib/python3.8/site-packages/Bio/Entrez/__init__.py:606\u001b[0m, in \u001b[0;36m_open\u001b[0;34m(cgi, params, post, ecitmatch)\u001b[0m\n\u001b[1;32m    604\u001b[0m         handle \u001b[38;5;241m=\u001b[39m urlopen(cgi, data\u001b[38;5;241m=\u001b[39moptions\u001b[38;5;241m.\u001b[39mencode(\u001b[38;5;124m\"\u001b[39m\u001b[38;5;124mutf8\u001b[39m\u001b[38;5;124m\"\u001b[39m))\n\u001b[1;32m    605\u001b[0m     \u001b[38;5;28;01melse\u001b[39;00m:\n\u001b[0;32m--> 606\u001b[0m         handle \u001b[38;5;241m=\u001b[39m \u001b[43murlopen\u001b[49m\u001b[43m(\u001b[49m\u001b[43mcgi\u001b[49m\u001b[43m)\u001b[49m\n\u001b[1;32m    607\u001b[0m \u001b[38;5;28;01mexcept\u001b[39;00m HTTPError \u001b[38;5;28;01mas\u001b[39;00m exception:\n\u001b[1;32m    608\u001b[0m     \u001b[38;5;66;03m# Reraise if the final try fails\u001b[39;00m\n\u001b[1;32m    609\u001b[0m     \u001b[38;5;28;01mif\u001b[39;00m i \u001b[38;5;241m>\u001b[39m\u001b[38;5;241m=\u001b[39m max_tries \u001b[38;5;241m-\u001b[39m \u001b[38;5;241m1\u001b[39m:\n",
      "File \u001b[0;32m~/miniconda3/envs/mgr/lib/python3.8/urllib/request.py:222\u001b[0m, in \u001b[0;36murlopen\u001b[0;34m(url, data, timeout, cafile, capath, cadefault, context)\u001b[0m\n\u001b[1;32m    220\u001b[0m \u001b[38;5;28;01melse\u001b[39;00m:\n\u001b[1;32m    221\u001b[0m     opener \u001b[38;5;241m=\u001b[39m _opener\n\u001b[0;32m--> 222\u001b[0m \u001b[38;5;28;01mreturn\u001b[39;00m \u001b[43mopener\u001b[49m\u001b[38;5;241;43m.\u001b[39;49m\u001b[43mopen\u001b[49m\u001b[43m(\u001b[49m\u001b[43murl\u001b[49m\u001b[43m,\u001b[49m\u001b[43m \u001b[49m\u001b[43mdata\u001b[49m\u001b[43m,\u001b[49m\u001b[43m \u001b[49m\u001b[43mtimeout\u001b[49m\u001b[43m)\u001b[49m\n",
      "File \u001b[0;32m~/miniconda3/envs/mgr/lib/python3.8/urllib/request.py:525\u001b[0m, in \u001b[0;36mOpenerDirector.open\u001b[0;34m(self, fullurl, data, timeout)\u001b[0m\n\u001b[1;32m    522\u001b[0m     req \u001b[38;5;241m=\u001b[39m meth(req)\n\u001b[1;32m    524\u001b[0m sys\u001b[38;5;241m.\u001b[39maudit(\u001b[38;5;124m'\u001b[39m\u001b[38;5;124murllib.Request\u001b[39m\u001b[38;5;124m'\u001b[39m, req\u001b[38;5;241m.\u001b[39mfull_url, req\u001b[38;5;241m.\u001b[39mdata, req\u001b[38;5;241m.\u001b[39mheaders, req\u001b[38;5;241m.\u001b[39mget_method())\n\u001b[0;32m--> 525\u001b[0m response \u001b[38;5;241m=\u001b[39m \u001b[38;5;28;43mself\u001b[39;49m\u001b[38;5;241;43m.\u001b[39;49m\u001b[43m_open\u001b[49m\u001b[43m(\u001b[49m\u001b[43mreq\u001b[49m\u001b[43m,\u001b[49m\u001b[43m \u001b[49m\u001b[43mdata\u001b[49m\u001b[43m)\u001b[49m\n\u001b[1;32m    527\u001b[0m \u001b[38;5;66;03m# post-process response\u001b[39;00m\n\u001b[1;32m    528\u001b[0m meth_name \u001b[38;5;241m=\u001b[39m protocol\u001b[38;5;241m+\u001b[39m\u001b[38;5;124m\"\u001b[39m\u001b[38;5;124m_response\u001b[39m\u001b[38;5;124m\"\u001b[39m\n",
      "File \u001b[0;32m~/miniconda3/envs/mgr/lib/python3.8/urllib/request.py:542\u001b[0m, in \u001b[0;36mOpenerDirector._open\u001b[0;34m(self, req, data)\u001b[0m\n\u001b[1;32m    539\u001b[0m     \u001b[38;5;28;01mreturn\u001b[39;00m result\n\u001b[1;32m    541\u001b[0m protocol \u001b[38;5;241m=\u001b[39m req\u001b[38;5;241m.\u001b[39mtype\n\u001b[0;32m--> 542\u001b[0m result \u001b[38;5;241m=\u001b[39m \u001b[38;5;28;43mself\u001b[39;49m\u001b[38;5;241;43m.\u001b[39;49m\u001b[43m_call_chain\u001b[49m\u001b[43m(\u001b[49m\u001b[38;5;28;43mself\u001b[39;49m\u001b[38;5;241;43m.\u001b[39;49m\u001b[43mhandle_open\u001b[49m\u001b[43m,\u001b[49m\u001b[43m \u001b[49m\u001b[43mprotocol\u001b[49m\u001b[43m,\u001b[49m\u001b[43m \u001b[49m\u001b[43mprotocol\u001b[49m\u001b[43m \u001b[49m\u001b[38;5;241;43m+\u001b[39;49m\n\u001b[1;32m    543\u001b[0m \u001b[43m                          \u001b[49m\u001b[38;5;124;43m'\u001b[39;49m\u001b[38;5;124;43m_open\u001b[39;49m\u001b[38;5;124;43m'\u001b[39;49m\u001b[43m,\u001b[49m\u001b[43m \u001b[49m\u001b[43mreq\u001b[49m\u001b[43m)\u001b[49m\n\u001b[1;32m    544\u001b[0m \u001b[38;5;28;01mif\u001b[39;00m result:\n\u001b[1;32m    545\u001b[0m     \u001b[38;5;28;01mreturn\u001b[39;00m result\n",
      "File \u001b[0;32m~/miniconda3/envs/mgr/lib/python3.8/urllib/request.py:502\u001b[0m, in \u001b[0;36mOpenerDirector._call_chain\u001b[0;34m(self, chain, kind, meth_name, *args)\u001b[0m\n\u001b[1;32m    500\u001b[0m \u001b[38;5;28;01mfor\u001b[39;00m handler \u001b[38;5;129;01min\u001b[39;00m handlers:\n\u001b[1;32m    501\u001b[0m     func \u001b[38;5;241m=\u001b[39m \u001b[38;5;28mgetattr\u001b[39m(handler, meth_name)\n\u001b[0;32m--> 502\u001b[0m     result \u001b[38;5;241m=\u001b[39m \u001b[43mfunc\u001b[49m\u001b[43m(\u001b[49m\u001b[38;5;241;43m*\u001b[39;49m\u001b[43margs\u001b[49m\u001b[43m)\u001b[49m\n\u001b[1;32m    503\u001b[0m     \u001b[38;5;28;01mif\u001b[39;00m result \u001b[38;5;129;01mis\u001b[39;00m \u001b[38;5;129;01mnot\u001b[39;00m \u001b[38;5;28;01mNone\u001b[39;00m:\n\u001b[1;32m    504\u001b[0m         \u001b[38;5;28;01mreturn\u001b[39;00m result\n",
      "File \u001b[0;32m~/miniconda3/envs/mgr/lib/python3.8/urllib/request.py:1397\u001b[0m, in \u001b[0;36mHTTPSHandler.https_open\u001b[0;34m(self, req)\u001b[0m\n\u001b[1;32m   1396\u001b[0m \u001b[38;5;28;01mdef\u001b[39;00m \u001b[38;5;21mhttps_open\u001b[39m(\u001b[38;5;28mself\u001b[39m, req):\n\u001b[0;32m-> 1397\u001b[0m     \u001b[38;5;28;01mreturn\u001b[39;00m \u001b[38;5;28;43mself\u001b[39;49m\u001b[38;5;241;43m.\u001b[39;49m\u001b[43mdo_open\u001b[49m\u001b[43m(\u001b[49m\u001b[43mhttp\u001b[49m\u001b[38;5;241;43m.\u001b[39;49m\u001b[43mclient\u001b[49m\u001b[38;5;241;43m.\u001b[39;49m\u001b[43mHTTPSConnection\u001b[49m\u001b[43m,\u001b[49m\u001b[43m \u001b[49m\u001b[43mreq\u001b[49m\u001b[43m,\u001b[49m\n\u001b[1;32m   1398\u001b[0m \u001b[43m        \u001b[49m\u001b[43mcontext\u001b[49m\u001b[38;5;241;43m=\u001b[39;49m\u001b[38;5;28;43mself\u001b[39;49m\u001b[38;5;241;43m.\u001b[39;49m\u001b[43m_context\u001b[49m\u001b[43m,\u001b[49m\u001b[43m \u001b[49m\u001b[43mcheck_hostname\u001b[49m\u001b[38;5;241;43m=\u001b[39;49m\u001b[38;5;28;43mself\u001b[39;49m\u001b[38;5;241;43m.\u001b[39;49m\u001b[43m_check_hostname\u001b[49m\u001b[43m)\u001b[49m\n",
      "File \u001b[0;32m~/miniconda3/envs/mgr/lib/python3.8/urllib/request.py:1354\u001b[0m, in \u001b[0;36mAbstractHTTPHandler.do_open\u001b[0;34m(self, http_class, req, **http_conn_args)\u001b[0m\n\u001b[1;32m   1352\u001b[0m \u001b[38;5;28;01mtry\u001b[39;00m:\n\u001b[1;32m   1353\u001b[0m     \u001b[38;5;28;01mtry\u001b[39;00m:\n\u001b[0;32m-> 1354\u001b[0m         \u001b[43mh\u001b[49m\u001b[38;5;241;43m.\u001b[39;49m\u001b[43mrequest\u001b[49m\u001b[43m(\u001b[49m\u001b[43mreq\u001b[49m\u001b[38;5;241;43m.\u001b[39;49m\u001b[43mget_method\u001b[49m\u001b[43m(\u001b[49m\u001b[43m)\u001b[49m\u001b[43m,\u001b[49m\u001b[43m \u001b[49m\u001b[43mreq\u001b[49m\u001b[38;5;241;43m.\u001b[39;49m\u001b[43mselector\u001b[49m\u001b[43m,\u001b[49m\u001b[43m \u001b[49m\u001b[43mreq\u001b[49m\u001b[38;5;241;43m.\u001b[39;49m\u001b[43mdata\u001b[49m\u001b[43m,\u001b[49m\u001b[43m \u001b[49m\u001b[43mheaders\u001b[49m\u001b[43m,\u001b[49m\n\u001b[1;32m   1355\u001b[0m \u001b[43m                  \u001b[49m\u001b[43mencode_chunked\u001b[49m\u001b[38;5;241;43m=\u001b[39;49m\u001b[43mreq\u001b[49m\u001b[38;5;241;43m.\u001b[39;49m\u001b[43mhas_header\u001b[49m\u001b[43m(\u001b[49m\u001b[38;5;124;43m'\u001b[39;49m\u001b[38;5;124;43mTransfer-encoding\u001b[39;49m\u001b[38;5;124;43m'\u001b[39;49m\u001b[43m)\u001b[49m\u001b[43m)\u001b[49m\n\u001b[1;32m   1356\u001b[0m     \u001b[38;5;28;01mexcept\u001b[39;00m \u001b[38;5;167;01mOSError\u001b[39;00m \u001b[38;5;28;01mas\u001b[39;00m err: \u001b[38;5;66;03m# timeout error\u001b[39;00m\n\u001b[1;32m   1357\u001b[0m         \u001b[38;5;28;01mraise\u001b[39;00m URLError(err)\n",
      "File \u001b[0;32m~/miniconda3/envs/mgr/lib/python3.8/http/client.py:1256\u001b[0m, in \u001b[0;36mHTTPConnection.request\u001b[0;34m(self, method, url, body, headers, encode_chunked)\u001b[0m\n\u001b[1;32m   1253\u001b[0m \u001b[38;5;28;01mdef\u001b[39;00m \u001b[38;5;21mrequest\u001b[39m(\u001b[38;5;28mself\u001b[39m, method, url, body\u001b[38;5;241m=\u001b[39m\u001b[38;5;28;01mNone\u001b[39;00m, headers\u001b[38;5;241m=\u001b[39m{}, \u001b[38;5;241m*\u001b[39m,\n\u001b[1;32m   1254\u001b[0m             encode_chunked\u001b[38;5;241m=\u001b[39m\u001b[38;5;28;01mFalse\u001b[39;00m):\n\u001b[1;32m   1255\u001b[0m     \u001b[38;5;124;03m\"\"\"Send a complete request to the server.\"\"\"\u001b[39;00m\n\u001b[0;32m-> 1256\u001b[0m     \u001b[38;5;28;43mself\u001b[39;49m\u001b[38;5;241;43m.\u001b[39;49m\u001b[43m_send_request\u001b[49m\u001b[43m(\u001b[49m\u001b[43mmethod\u001b[49m\u001b[43m,\u001b[49m\u001b[43m \u001b[49m\u001b[43murl\u001b[49m\u001b[43m,\u001b[49m\u001b[43m \u001b[49m\u001b[43mbody\u001b[49m\u001b[43m,\u001b[49m\u001b[43m \u001b[49m\u001b[43mheaders\u001b[49m\u001b[43m,\u001b[49m\u001b[43m \u001b[49m\u001b[43mencode_chunked\u001b[49m\u001b[43m)\u001b[49m\n",
      "File \u001b[0;32m~/miniconda3/envs/mgr/lib/python3.8/http/client.py:1302\u001b[0m, in \u001b[0;36mHTTPConnection._send_request\u001b[0;34m(self, method, url, body, headers, encode_chunked)\u001b[0m\n\u001b[1;32m   1298\u001b[0m \u001b[38;5;28;01mif\u001b[39;00m \u001b[38;5;28misinstance\u001b[39m(body, \u001b[38;5;28mstr\u001b[39m):\n\u001b[1;32m   1299\u001b[0m     \u001b[38;5;66;03m# RFC 2616 Section 3.7.1 says that text default has a\u001b[39;00m\n\u001b[1;32m   1300\u001b[0m     \u001b[38;5;66;03m# default charset of iso-8859-1.\u001b[39;00m\n\u001b[1;32m   1301\u001b[0m     body \u001b[38;5;241m=\u001b[39m _encode(body, \u001b[38;5;124m'\u001b[39m\u001b[38;5;124mbody\u001b[39m\u001b[38;5;124m'\u001b[39m)\n\u001b[0;32m-> 1302\u001b[0m \u001b[38;5;28;43mself\u001b[39;49m\u001b[38;5;241;43m.\u001b[39;49m\u001b[43mendheaders\u001b[49m\u001b[43m(\u001b[49m\u001b[43mbody\u001b[49m\u001b[43m,\u001b[49m\u001b[43m \u001b[49m\u001b[43mencode_chunked\u001b[49m\u001b[38;5;241;43m=\u001b[39;49m\u001b[43mencode_chunked\u001b[49m\u001b[43m)\u001b[49m\n",
      "File \u001b[0;32m~/miniconda3/envs/mgr/lib/python3.8/http/client.py:1251\u001b[0m, in \u001b[0;36mHTTPConnection.endheaders\u001b[0;34m(self, message_body, encode_chunked)\u001b[0m\n\u001b[1;32m   1249\u001b[0m \u001b[38;5;28;01melse\u001b[39;00m:\n\u001b[1;32m   1250\u001b[0m     \u001b[38;5;28;01mraise\u001b[39;00m CannotSendHeader()\n\u001b[0;32m-> 1251\u001b[0m \u001b[38;5;28;43mself\u001b[39;49m\u001b[38;5;241;43m.\u001b[39;49m\u001b[43m_send_output\u001b[49m\u001b[43m(\u001b[49m\u001b[43mmessage_body\u001b[49m\u001b[43m,\u001b[49m\u001b[43m \u001b[49m\u001b[43mencode_chunked\u001b[49m\u001b[38;5;241;43m=\u001b[39;49m\u001b[43mencode_chunked\u001b[49m\u001b[43m)\u001b[49m\n",
      "File \u001b[0;32m~/miniconda3/envs/mgr/lib/python3.8/http/client.py:1011\u001b[0m, in \u001b[0;36mHTTPConnection._send_output\u001b[0;34m(self, message_body, encode_chunked)\u001b[0m\n\u001b[1;32m   1009\u001b[0m msg \u001b[38;5;241m=\u001b[39m \u001b[38;5;124mb\u001b[39m\u001b[38;5;124m\"\u001b[39m\u001b[38;5;130;01m\\r\u001b[39;00m\u001b[38;5;130;01m\\n\u001b[39;00m\u001b[38;5;124m\"\u001b[39m\u001b[38;5;241m.\u001b[39mjoin(\u001b[38;5;28mself\u001b[39m\u001b[38;5;241m.\u001b[39m_buffer)\n\u001b[1;32m   1010\u001b[0m \u001b[38;5;28;01mdel\u001b[39;00m \u001b[38;5;28mself\u001b[39m\u001b[38;5;241m.\u001b[39m_buffer[:]\n\u001b[0;32m-> 1011\u001b[0m \u001b[38;5;28;43mself\u001b[39;49m\u001b[38;5;241;43m.\u001b[39;49m\u001b[43msend\u001b[49m\u001b[43m(\u001b[49m\u001b[43mmsg\u001b[49m\u001b[43m)\u001b[49m\n\u001b[1;32m   1013\u001b[0m \u001b[38;5;28;01mif\u001b[39;00m message_body \u001b[38;5;129;01mis\u001b[39;00m \u001b[38;5;129;01mnot\u001b[39;00m \u001b[38;5;28;01mNone\u001b[39;00m:\n\u001b[1;32m   1014\u001b[0m \n\u001b[1;32m   1015\u001b[0m     \u001b[38;5;66;03m# create a consistent interface to message_body\u001b[39;00m\n\u001b[1;32m   1016\u001b[0m     \u001b[38;5;28;01mif\u001b[39;00m \u001b[38;5;28mhasattr\u001b[39m(message_body, \u001b[38;5;124m'\u001b[39m\u001b[38;5;124mread\u001b[39m\u001b[38;5;124m'\u001b[39m):\n\u001b[1;32m   1017\u001b[0m         \u001b[38;5;66;03m# Let file-like take precedence over byte-like.  This\u001b[39;00m\n\u001b[1;32m   1018\u001b[0m         \u001b[38;5;66;03m# is needed to allow the current position of mmap'ed\u001b[39;00m\n\u001b[1;32m   1019\u001b[0m         \u001b[38;5;66;03m# files to be taken into account.\u001b[39;00m\n",
      "File \u001b[0;32m~/miniconda3/envs/mgr/lib/python3.8/http/client.py:951\u001b[0m, in \u001b[0;36mHTTPConnection.send\u001b[0;34m(self, data)\u001b[0m\n\u001b[1;32m    949\u001b[0m \u001b[38;5;28;01mif\u001b[39;00m \u001b[38;5;28mself\u001b[39m\u001b[38;5;241m.\u001b[39msock \u001b[38;5;129;01mis\u001b[39;00m \u001b[38;5;28;01mNone\u001b[39;00m:\n\u001b[1;32m    950\u001b[0m     \u001b[38;5;28;01mif\u001b[39;00m \u001b[38;5;28mself\u001b[39m\u001b[38;5;241m.\u001b[39mauto_open:\n\u001b[0;32m--> 951\u001b[0m         \u001b[38;5;28;43mself\u001b[39;49m\u001b[38;5;241;43m.\u001b[39;49m\u001b[43mconnect\u001b[49m\u001b[43m(\u001b[49m\u001b[43m)\u001b[49m\n\u001b[1;32m    952\u001b[0m     \u001b[38;5;28;01melse\u001b[39;00m:\n\u001b[1;32m    953\u001b[0m         \u001b[38;5;28;01mraise\u001b[39;00m NotConnected()\n",
      "File \u001b[0;32m~/miniconda3/envs/mgr/lib/python3.8/http/client.py:1425\u001b[0m, in \u001b[0;36mHTTPSConnection.connect\u001b[0;34m(self)\u001b[0m\n\u001b[1;32m   1422\u001b[0m \u001b[38;5;28;01melse\u001b[39;00m:\n\u001b[1;32m   1423\u001b[0m     server_hostname \u001b[38;5;241m=\u001b[39m \u001b[38;5;28mself\u001b[39m\u001b[38;5;241m.\u001b[39mhost\n\u001b[0;32m-> 1425\u001b[0m \u001b[38;5;28mself\u001b[39m\u001b[38;5;241m.\u001b[39msock \u001b[38;5;241m=\u001b[39m \u001b[38;5;28;43mself\u001b[39;49m\u001b[38;5;241;43m.\u001b[39;49m\u001b[43m_context\u001b[49m\u001b[38;5;241;43m.\u001b[39;49m\u001b[43mwrap_socket\u001b[49m\u001b[43m(\u001b[49m\u001b[38;5;28;43mself\u001b[39;49m\u001b[38;5;241;43m.\u001b[39;49m\u001b[43msock\u001b[49m\u001b[43m,\u001b[49m\n\u001b[1;32m   1426\u001b[0m \u001b[43m                                      \u001b[49m\u001b[43mserver_hostname\u001b[49m\u001b[38;5;241;43m=\u001b[39;49m\u001b[43mserver_hostname\u001b[49m\u001b[43m)\u001b[49m\n",
      "File \u001b[0;32m~/miniconda3/envs/mgr/lib/python3.8/ssl.py:500\u001b[0m, in \u001b[0;36mSSLContext.wrap_socket\u001b[0;34m(self, sock, server_side, do_handshake_on_connect, suppress_ragged_eofs, server_hostname, session)\u001b[0m\n\u001b[1;32m    494\u001b[0m \u001b[38;5;28;01mdef\u001b[39;00m \u001b[38;5;21mwrap_socket\u001b[39m(\u001b[38;5;28mself\u001b[39m, sock, server_side\u001b[38;5;241m=\u001b[39m\u001b[38;5;28;01mFalse\u001b[39;00m,\n\u001b[1;32m    495\u001b[0m                 do_handshake_on_connect\u001b[38;5;241m=\u001b[39m\u001b[38;5;28;01mTrue\u001b[39;00m,\n\u001b[1;32m    496\u001b[0m                 suppress_ragged_eofs\u001b[38;5;241m=\u001b[39m\u001b[38;5;28;01mTrue\u001b[39;00m,\n\u001b[1;32m    497\u001b[0m                 server_hostname\u001b[38;5;241m=\u001b[39m\u001b[38;5;28;01mNone\u001b[39;00m, session\u001b[38;5;241m=\u001b[39m\u001b[38;5;28;01mNone\u001b[39;00m):\n\u001b[1;32m    498\u001b[0m     \u001b[38;5;66;03m# SSLSocket class handles server_hostname encoding before it calls\u001b[39;00m\n\u001b[1;32m    499\u001b[0m     \u001b[38;5;66;03m# ctx._wrap_socket()\u001b[39;00m\n\u001b[0;32m--> 500\u001b[0m     \u001b[38;5;28;01mreturn\u001b[39;00m \u001b[38;5;28;43mself\u001b[39;49m\u001b[38;5;241;43m.\u001b[39;49m\u001b[43msslsocket_class\u001b[49m\u001b[38;5;241;43m.\u001b[39;49m\u001b[43m_create\u001b[49m\u001b[43m(\u001b[49m\n\u001b[1;32m    501\u001b[0m \u001b[43m        \u001b[49m\u001b[43msock\u001b[49m\u001b[38;5;241;43m=\u001b[39;49m\u001b[43msock\u001b[49m\u001b[43m,\u001b[49m\n\u001b[1;32m    502\u001b[0m \u001b[43m        \u001b[49m\u001b[43mserver_side\u001b[49m\u001b[38;5;241;43m=\u001b[39;49m\u001b[43mserver_side\u001b[49m\u001b[43m,\u001b[49m\n\u001b[1;32m    503\u001b[0m \u001b[43m        \u001b[49m\u001b[43mdo_handshake_on_connect\u001b[49m\u001b[38;5;241;43m=\u001b[39;49m\u001b[43mdo_handshake_on_connect\u001b[49m\u001b[43m,\u001b[49m\n\u001b[1;32m    504\u001b[0m \u001b[43m        \u001b[49m\u001b[43msuppress_ragged_eofs\u001b[49m\u001b[38;5;241;43m=\u001b[39;49m\u001b[43msuppress_ragged_eofs\u001b[49m\u001b[43m,\u001b[49m\n\u001b[1;32m    505\u001b[0m \u001b[43m        \u001b[49m\u001b[43mserver_hostname\u001b[49m\u001b[38;5;241;43m=\u001b[39;49m\u001b[43mserver_hostname\u001b[49m\u001b[43m,\u001b[49m\n\u001b[1;32m    506\u001b[0m \u001b[43m        \u001b[49m\u001b[43mcontext\u001b[49m\u001b[38;5;241;43m=\u001b[39;49m\u001b[38;5;28;43mself\u001b[39;49m\u001b[43m,\u001b[49m\n\u001b[1;32m    507\u001b[0m \u001b[43m        \u001b[49m\u001b[43msession\u001b[49m\u001b[38;5;241;43m=\u001b[39;49m\u001b[43msession\u001b[49m\n\u001b[1;32m    508\u001b[0m \u001b[43m    \u001b[49m\u001b[43m)\u001b[49m\n",
      "File \u001b[0;32m~/miniconda3/envs/mgr/lib/python3.8/ssl.py:1040\u001b[0m, in \u001b[0;36mSSLSocket._create\u001b[0;34m(cls, sock, server_side, do_handshake_on_connect, suppress_ragged_eofs, server_hostname, context, session)\u001b[0m\n\u001b[1;32m   1037\u001b[0m         \u001b[38;5;28;01mif\u001b[39;00m timeout \u001b[38;5;241m==\u001b[39m \u001b[38;5;241m0.0\u001b[39m:\n\u001b[1;32m   1038\u001b[0m             \u001b[38;5;66;03m# non-blocking\u001b[39;00m\n\u001b[1;32m   1039\u001b[0m             \u001b[38;5;28;01mraise\u001b[39;00m \u001b[38;5;167;01mValueError\u001b[39;00m(\u001b[38;5;124m\"\u001b[39m\u001b[38;5;124mdo_handshake_on_connect should not be specified for non-blocking sockets\u001b[39m\u001b[38;5;124m\"\u001b[39m)\n\u001b[0;32m-> 1040\u001b[0m         \u001b[38;5;28;43mself\u001b[39;49m\u001b[38;5;241;43m.\u001b[39;49m\u001b[43mdo_handshake\u001b[49m\u001b[43m(\u001b[49m\u001b[43m)\u001b[49m\n\u001b[1;32m   1041\u001b[0m \u001b[38;5;28;01mexcept\u001b[39;00m (\u001b[38;5;167;01mOSError\u001b[39;00m, \u001b[38;5;167;01mValueError\u001b[39;00m):\n\u001b[1;32m   1042\u001b[0m     \u001b[38;5;28mself\u001b[39m\u001b[38;5;241m.\u001b[39mclose()\n",
      "File \u001b[0;32m~/miniconda3/envs/mgr/lib/python3.8/ssl.py:1309\u001b[0m, in \u001b[0;36mSSLSocket.do_handshake\u001b[0;34m(self, block)\u001b[0m\n\u001b[1;32m   1307\u001b[0m     \u001b[38;5;28;01mif\u001b[39;00m timeout \u001b[38;5;241m==\u001b[39m \u001b[38;5;241m0.0\u001b[39m \u001b[38;5;129;01mand\u001b[39;00m block:\n\u001b[1;32m   1308\u001b[0m         \u001b[38;5;28mself\u001b[39m\u001b[38;5;241m.\u001b[39msettimeout(\u001b[38;5;28;01mNone\u001b[39;00m)\n\u001b[0;32m-> 1309\u001b[0m     \u001b[38;5;28;43mself\u001b[39;49m\u001b[38;5;241;43m.\u001b[39;49m\u001b[43m_sslobj\u001b[49m\u001b[38;5;241;43m.\u001b[39;49m\u001b[43mdo_handshake\u001b[49m\u001b[43m(\u001b[49m\u001b[43m)\u001b[49m\n\u001b[1;32m   1310\u001b[0m \u001b[38;5;28;01mfinally\u001b[39;00m:\n\u001b[1;32m   1311\u001b[0m     \u001b[38;5;28mself\u001b[39m\u001b[38;5;241m.\u001b[39msettimeout(timeout)\n",
      "\u001b[0;31mKeyboardInterrupt\u001b[0m: "
     ]
    }
   ],
   "source": [
    "all_species_ncbi_ids_test\n",
    "\n",
    "import time  \n",
    "\n",
    "start_time = time.process_time()  \n",
    "results = batch_parse_ncbi_taxids(all_species_ncbi_ids_test)\n",
    "end_time = time.process_time()  \n",
    "\n",
    "print(f\"Execution time: {end_time - start_time} seconds\")  "
   ]
  },
  {
   "cell_type": "markdown",
   "id": "8054e37b",
   "metadata": {},
   "source": [
    "## Parse NCBI taxonomy data from dmp files"
   ]
  },
  {
   "cell_type": "code",
   "execution_count": 3,
   "id": "33f184a5",
   "metadata": {},
   "outputs": [],
   "source": [
    "import pandas as pd  \n",
    "\n",
    "def parse_dmp_file(file_path, columns):  \n",
    "    \"\"\"Reads a .dmp file and returns the DataFrame after cleaning.\"\"\"  \n",
    "    with open(file_path, 'r') as file:  \n",
    "        lines = file.readlines()  \n",
    "\n",
    "    # Process lines to split using the specified separator and remove line terminators  \n",
    "    processed_lines = [line.strip().split(\"\\t|\\t\") for line in lines]  \n",
    "\n",
    "    # Convert processed lines to DataFrame  \n",
    "    return pd.DataFrame(processed_lines, columns=columns)  \n",
    "\n",
    "def get_taxonomy_info(nodes_file_path, names_file_path):  \n",
    "    # Define columns for nodes.dmp and names.dmp  \n",
    "    nodes_columns = [  \n",
    "        \"tax_id\", \"parent_tax_id\", \"rank\", \"embl_code\", \"division_id\",  \n",
    "        \"inherited_div_flag\", \"genetic_code_id\", \"inherited_GC_flag\",  \n",
    "        \"mitochondrial_genetic_code_id\", \"inherited_MGC_flag\",  \n",
    "        \"GenBank_hidden_flag\", \"hidden_subtree_root_flag\", \"comments\"  \n",
    "    ]  \n",
    "    names_columns = [\"tax_id\", \"name_txt\", \"unique_name\", \"name_class\"]  \n",
    "\n",
    "    # Parse the files  \n",
    "    nodes_df = parse_dmp_file(nodes_file_path, nodes_columns)  \n",
    "    names_df = parse_dmp_file(names_file_path, names_columns) \n",
    "    \n",
    "    return nodes_df, names_df"
   ]
  },
  {
   "cell_type": "code",
   "execution_count": 4,
   "id": "1c335a31",
   "metadata": {},
   "outputs": [],
   "source": [
    "# Example usage:  \n",
    "#[9606, 10090]  # Human and Mouse  \n",
    "nodes_file = '../fetch_ncbi_taxonomy/taxdmp/nodes.dmp'  \n",
    "names_file = '../fetch_ncbi_taxonomy/taxdmp/names.dmp'  \n",
    "\n",
    "taxonomic_lineage, species_names = get_taxonomy_info(nodes_file, names_file)"
   ]
  },
  {
   "cell_type": "code",
   "execution_count": 5,
   "id": "5a702a23",
   "metadata": {},
   "outputs": [],
   "source": [
    "all_species_ncbi_ids_str = [str(x) for x in all_species_ncbi_ids]"
   ]
  },
  {
   "cell_type": "code",
   "execution_count": 6,
   "id": "2549a8ba",
   "metadata": {},
   "outputs": [],
   "source": [
    "ncbi_species_ids_and_names = species_names[(species_names.tax_id.isin(all_species_ncbi_ids_str))&(species_names.name_class=='scientific name\\t|')]\n",
    "ncbi_species_ids_and_names = ncbi_species_ids_and_names[['tax_id', 'name_txt']]"
   ]
  },
  {
   "cell_type": "code",
   "execution_count": 7,
   "id": "e82f2f61",
   "metadata": {},
   "outputs": [
    {
     "data": {
      "text/html": [
       "<div>\n",
       "<style scoped>\n",
       "    .dataframe tbody tr th:only-of-type {\n",
       "        vertical-align: middle;\n",
       "    }\n",
       "\n",
       "    .dataframe tbody tr th {\n",
       "        vertical-align: top;\n",
       "    }\n",
       "\n",
       "    .dataframe thead th {\n",
       "        text-align: right;\n",
       "    }\n",
       "</style>\n",
       "<table border=\"1\" class=\"dataframe\">\n",
       "  <thead>\n",
       "    <tr style=\"text-align: right;\">\n",
       "      <th></th>\n",
       "      <th>species_id_ncbi</th>\n",
       "      <th>species_name_ncbi</th>\n",
       "    </tr>\n",
       "  </thead>\n",
       "  <tbody>\n",
       "    <tr>\n",
       "      <th>20</th>\n",
       "      <td>7</td>\n",
       "      <td>Azorhizobium caulinodans</td>\n",
       "    </tr>\n",
       "    <tr>\n",
       "      <th>32</th>\n",
       "      <td>9</td>\n",
       "      <td>Buchnera aphidicola</td>\n",
       "    </tr>\n",
       "    <tr>\n",
       "      <th>41</th>\n",
       "      <td>11</td>\n",
       "      <td>Cellulomonas gilvus</td>\n",
       "    </tr>\n",
       "    <tr>\n",
       "      <th>50</th>\n",
       "      <td>14</td>\n",
       "      <td>Dictyoglomus thermophilum</td>\n",
       "    </tr>\n",
       "    <tr>\n",
       "      <th>68</th>\n",
       "      <td>17</td>\n",
       "      <td>Methylophilus methylotrophus</td>\n",
       "    </tr>\n",
       "    <tr>\n",
       "      <th>...</th>\n",
       "      <td>...</td>\n",
       "      <td>...</td>\n",
       "    </tr>\n",
       "    <tr>\n",
       "      <th>4085087</th>\n",
       "      <td>3161927</td>\n",
       "      <td>Chthoniidae sp. Biologic-PSEU009</td>\n",
       "    </tr>\n",
       "    <tr>\n",
       "      <th>4085090</th>\n",
       "      <td>3161928</td>\n",
       "      <td>Chthoniidae sp. Biologic-PSEU005</td>\n",
       "    </tr>\n",
       "    <tr>\n",
       "      <th>4085092</th>\n",
       "      <td>3161929</td>\n",
       "      <td>Chthoniidae sp. Biologic-PSEU008</td>\n",
       "    </tr>\n",
       "    <tr>\n",
       "      <th>4085094</th>\n",
       "      <td>3161930</td>\n",
       "      <td>Chthoniidae sp. Biologic-PSEU006</td>\n",
       "    </tr>\n",
       "    <tr>\n",
       "      <th>4085098</th>\n",
       "      <td>3161931</td>\n",
       "      <td>Chthoniidae sp. Biologic-PSEU004</td>\n",
       "    </tr>\n",
       "  </tbody>\n",
       "</table>\n",
       "<p>1528027 rows × 2 columns</p>\n",
       "</div>"
      ],
      "text/plain": [
       "        species_id_ncbi                 species_name_ncbi\n",
       "20                    7          Azorhizobium caulinodans\n",
       "32                    9               Buchnera aphidicola\n",
       "41                   11               Cellulomonas gilvus\n",
       "50                   14         Dictyoglomus thermophilum\n",
       "68                   17      Methylophilus methylotrophus\n",
       "...                 ...                               ...\n",
       "4085087         3161927  Chthoniidae sp. Biologic-PSEU009\n",
       "4085090         3161928  Chthoniidae sp. Biologic-PSEU005\n",
       "4085092         3161929  Chthoniidae sp. Biologic-PSEU008\n",
       "4085094         3161930  Chthoniidae sp. Biologic-PSEU006\n",
       "4085098         3161931  Chthoniidae sp. Biologic-PSEU004\n",
       "\n",
       "[1528027 rows x 2 columns]"
      ]
     },
     "execution_count": 7,
     "metadata": {},
     "output_type": "execute_result"
    }
   ],
   "source": [
    "ncbi_species_ids_and_names.columns = ['species_id_ncbi', 'species_name_ncbi']\n",
    "ncbi_species_ids_and_names"
   ]
  },
  {
   "cell_type": "code",
   "execution_count": 8,
   "id": "94948b38",
   "metadata": {},
   "outputs": [
    {
     "data": {
      "text/html": [
       "<div>\n",
       "<style scoped>\n",
       "    .dataframe tbody tr th:only-of-type {\n",
       "        vertical-align: middle;\n",
       "    }\n",
       "\n",
       "    .dataframe tbody tr th {\n",
       "        vertical-align: top;\n",
       "    }\n",
       "\n",
       "    .dataframe thead th {\n",
       "        text-align: right;\n",
       "    }\n",
       "</style>\n",
       "<table border=\"1\" class=\"dataframe\">\n",
       "  <thead>\n",
       "    <tr style=\"text-align: right;\">\n",
       "      <th></th>\n",
       "      <th>tax_id</th>\n",
       "      <th>parent_tax_id</th>\n",
       "      <th>rank</th>\n",
       "      <th>embl_code</th>\n",
       "      <th>division_id</th>\n",
       "      <th>inherited_div_flag</th>\n",
       "      <th>genetic_code_id</th>\n",
       "      <th>inherited_GC_flag</th>\n",
       "      <th>mitochondrial_genetic_code_id</th>\n",
       "      <th>inherited_MGC_flag</th>\n",
       "      <th>GenBank_hidden_flag</th>\n",
       "      <th>hidden_subtree_root_flag</th>\n",
       "      <th>comments</th>\n",
       "    </tr>\n",
       "  </thead>\n",
       "  <tbody>\n",
       "    <tr>\n",
       "      <th>1</th>\n",
       "      <td>2</td>\n",
       "      <td>131567</td>\n",
       "      <td>superkingdom</td>\n",
       "      <td></td>\n",
       "      <td>0</td>\n",
       "      <td>0</td>\n",
       "      <td>11</td>\n",
       "      <td>0</td>\n",
       "      <td>0</td>\n",
       "      <td>0</td>\n",
       "      <td>0</td>\n",
       "      <td>0</td>\n",
       "      <td>\\t|</td>\n",
       "    </tr>\n",
       "    <tr>\n",
       "      <th>1697</th>\n",
       "      <td>2157</td>\n",
       "      <td>131567</td>\n",
       "      <td>superkingdom</td>\n",
       "      <td></td>\n",
       "      <td>0</td>\n",
       "      <td>0</td>\n",
       "      <td>11</td>\n",
       "      <td>0</td>\n",
       "      <td>0</td>\n",
       "      <td>0</td>\n",
       "      <td>0</td>\n",
       "      <td>0</td>\n",
       "      <td>\\t|</td>\n",
       "    </tr>\n",
       "    <tr>\n",
       "      <th>2182</th>\n",
       "      <td>2759</td>\n",
       "      <td>131567</td>\n",
       "      <td>superkingdom</td>\n",
       "      <td></td>\n",
       "      <td>1</td>\n",
       "      <td>0</td>\n",
       "      <td>1</td>\n",
       "      <td>0</td>\n",
       "      <td>1</td>\n",
       "      <td>0</td>\n",
       "      <td>0</td>\n",
       "      <td>0</td>\n",
       "      <td>\\t|</td>\n",
       "    </tr>\n",
       "    <tr>\n",
       "      <th>8235</th>\n",
       "      <td>10239</td>\n",
       "      <td>1</td>\n",
       "      <td>superkingdom</td>\n",
       "      <td></td>\n",
       "      <td>9</td>\n",
       "      <td>0</td>\n",
       "      <td>1</td>\n",
       "      <td>0</td>\n",
       "      <td>0</td>\n",
       "      <td>0</td>\n",
       "      <td>0</td>\n",
       "      <td>0</td>\n",
       "      <td>\\t|</td>\n",
       "    </tr>\n",
       "  </tbody>\n",
       "</table>\n",
       "</div>"
      ],
      "text/plain": [
       "     tax_id parent_tax_id          rank embl_code division_id  \\\n",
       "1         2        131567  superkingdom                     0   \n",
       "1697   2157        131567  superkingdom                     0   \n",
       "2182   2759        131567  superkingdom                     1   \n",
       "8235  10239             1  superkingdom                     9   \n",
       "\n",
       "     inherited_div_flag genetic_code_id inherited_GC_flag  \\\n",
       "1                     0              11                 0   \n",
       "1697                  0              11                 0   \n",
       "2182                  0               1                 0   \n",
       "8235                  0               1                 0   \n",
       "\n",
       "     mitochondrial_genetic_code_id inherited_MGC_flag GenBank_hidden_flag  \\\n",
       "1                                0                  0                   0   \n",
       "1697                             0                  0                   0   \n",
       "2182                             1                  0                   0   \n",
       "8235                             0                  0                   0   \n",
       "\n",
       "     hidden_subtree_root_flag comments  \n",
       "1                           0      \\t|  \n",
       "1697                        0      \\t|  \n",
       "2182                        0      \\t|  \n",
       "8235                        0      \\t|  "
      ]
     },
     "execution_count": 8,
     "metadata": {},
     "output_type": "execute_result"
    }
   ],
   "source": [
    "taxonomic_lineage[(taxonomic_lineage['rank'] == 'superkingdom')]"
   ]
  },
  {
   "cell_type": "code",
   "execution_count": 9,
   "id": "1615b838",
   "metadata": {},
   "outputs": [
    {
     "data": {
      "text/html": [
       "<div>\n",
       "<style scoped>\n",
       "    .dataframe tbody tr th:only-of-type {\n",
       "        vertical-align: middle;\n",
       "    }\n",
       "\n",
       "    .dataframe tbody tr th {\n",
       "        vertical-align: top;\n",
       "    }\n",
       "\n",
       "    .dataframe thead th {\n",
       "        text-align: right;\n",
       "    }\n",
       "</style>\n",
       "<table border=\"1\" class=\"dataframe\">\n",
       "  <thead>\n",
       "    <tr style=\"text-align: right;\">\n",
       "      <th></th>\n",
       "      <th>tax_id</th>\n",
       "      <th>parent_tax_id</th>\n",
       "      <th>rank</th>\n",
       "      <th>embl_code</th>\n",
       "      <th>division_id</th>\n",
       "      <th>inherited_div_flag</th>\n",
       "      <th>genetic_code_id</th>\n",
       "      <th>inherited_GC_flag</th>\n",
       "      <th>mitochondrial_genetic_code_id</th>\n",
       "      <th>inherited_MGC_flag</th>\n",
       "      <th>GenBank_hidden_flag</th>\n",
       "      <th>hidden_subtree_root_flag</th>\n",
       "      <th>comments</th>\n",
       "    </tr>\n",
       "  </thead>\n",
       "  <tbody>\n",
       "    <tr>\n",
       "      <th>1</th>\n",
       "      <td>2</td>\n",
       "      <td>131567</td>\n",
       "      <td>superkingdom</td>\n",
       "      <td></td>\n",
       "      <td>0</td>\n",
       "      <td>0</td>\n",
       "      <td>11</td>\n",
       "      <td>0</td>\n",
       "      <td>0</td>\n",
       "      <td>0</td>\n",
       "      <td>0</td>\n",
       "      <td>0</td>\n",
       "      <td>\\t|</td>\n",
       "    </tr>\n",
       "  </tbody>\n",
       "</table>\n",
       "</div>"
      ],
      "text/plain": [
       "  tax_id parent_tax_id          rank embl_code division_id inherited_div_flag  \\\n",
       "1      2        131567  superkingdom                     0                  0   \n",
       "\n",
       "  genetic_code_id inherited_GC_flag mitochondrial_genetic_code_id  \\\n",
       "1              11                 0                             0   \n",
       "\n",
       "  inherited_MGC_flag GenBank_hidden_flag hidden_subtree_root_flag comments  \n",
       "1                  0                   0                        0      \\t|  "
      ]
     },
     "execution_count": 9,
     "metadata": {},
     "output_type": "execute_result"
    }
   ],
   "source": [
    "taxonomic_lineage[taxonomic_lineage.tax_id == '2']"
   ]
  },
  {
   "cell_type": "code",
   "execution_count": 10,
   "id": "a4a6d0a7",
   "metadata": {},
   "outputs": [
    {
     "data": {
      "text/html": [
       "<div>\n",
       "<style scoped>\n",
       "    .dataframe tbody tr th:only-of-type {\n",
       "        vertical-align: middle;\n",
       "    }\n",
       "\n",
       "    .dataframe tbody tr th {\n",
       "        vertical-align: top;\n",
       "    }\n",
       "\n",
       "    .dataframe thead th {\n",
       "        text-align: right;\n",
       "    }\n",
       "</style>\n",
       "<table border=\"1\" class=\"dataframe\">\n",
       "  <thead>\n",
       "    <tr style=\"text-align: right;\">\n",
       "      <th></th>\n",
       "      <th>tax_id</th>\n",
       "      <th>name_txt</th>\n",
       "      <th>unique_name</th>\n",
       "      <th>name_class</th>\n",
       "    </tr>\n",
       "  </thead>\n",
       "  <tbody>\n",
       "    <tr>\n",
       "      <th>2</th>\n",
       "      <td>2</td>\n",
       "      <td>Bacteria</td>\n",
       "      <td>Bacteria &lt;bacteria&gt;</td>\n",
       "      <td>scientific name\\t|</td>\n",
       "    </tr>\n",
       "    <tr>\n",
       "      <th>21122</th>\n",
       "      <td>2157</td>\n",
       "      <td>Archaea</td>\n",
       "      <td></td>\n",
       "      <td>scientific name\\t|</td>\n",
       "    </tr>\n",
       "    <tr>\n",
       "      <th>22826</th>\n",
       "      <td>2759</td>\n",
       "      <td>Eukaryota</td>\n",
       "      <td></td>\n",
       "      <td>scientific name\\t|</td>\n",
       "    </tr>\n",
       "    <tr>\n",
       "      <th>43160</th>\n",
       "      <td>10239</td>\n",
       "      <td>Viruses</td>\n",
       "      <td></td>\n",
       "      <td>scientific name\\t|</td>\n",
       "    </tr>\n",
       "  </tbody>\n",
       "</table>\n",
       "</div>"
      ],
      "text/plain": [
       "      tax_id   name_txt          unique_name          name_class\n",
       "2          2   Bacteria  Bacteria <bacteria>  scientific name\\t|\n",
       "21122   2157    Archaea                       scientific name\\t|\n",
       "22826   2759  Eukaryota                       scientific name\\t|\n",
       "43160  10239    Viruses                       scientific name\\t|"
      ]
     },
     "execution_count": 10,
     "metadata": {},
     "output_type": "execute_result"
    }
   ],
   "source": [
    "supekingdom_ids = [2,2157,2759,10239]\n",
    "supekingdom_ids = [str(x) for x in supekingdom_ids]\n",
    "species_names[(species_names['tax_id'].isin(supekingdom_ids))&(species_names.name_class=='scientific name\\t|')]"
   ]
  },
  {
   "cell_type": "code",
   "execution_count": 15,
   "id": "07556fce",
   "metadata": {},
   "outputs": [],
   "source": [
    "def add_superkingdom_info(lineage_df, names_df, species_df):  \n",
    "    # Filter names to only include scientific names  \n",
    "    scientific_names_df = names_df[names_df['name_class'] == 'scientific name\\t|']  \n",
    "\n",
    "    # Create a dictionary to store superkingdom information for each tax_id  \n",
    "    tax_id_to_superkingdom = {}  \n",
    "\n",
    "    # Traverse each tax_id to find its superkingdom  \n",
    "    for idx, row in species_df.iterrows():  \n",
    "        tax_id = row['species_id_ncbi']  \n",
    "        current_tax_id = tax_id  \n",
    "        superkingdom_tax_id = None  \n",
    "        superkingdom_name = None  \n",
    "        \n",
    "        # Traverse up the tree to find the superkingdom  \n",
    "        while current_tax_id != '1':  \n",
    "            current_node = lineage_df[lineage_df['tax_id'] == current_tax_id]\n",
    "            #print(current_node)\n",
    "    \n",
    "            if current_tax_id == '2':  \n",
    "                superkingdom_tax_id = 2\n",
    "                superkingdom_name = 'Bacteria'\n",
    "                break\n",
    "            elif current_tax_id == '2157':  \n",
    "                superkingdom_tax_id = 2157\n",
    "                superkingdom_name = 'Archaea' \n",
    "                break\n",
    "            elif current_tax_id == '2759':  \n",
    "                superkingdom_tax_id = 2759\n",
    "                superkingdom_name = 'Eukaryota'  \n",
    "                break\n",
    "            elif current_tax_id == '10239':  \n",
    "                superkingdom_tax_id = 10239\n",
    "                superkingdom_name = 'Viruses'\n",
    "                break\n",
    "            elif current_node.empty:  \n",
    "                break  \n",
    "                \n",
    "            current_tax_id = current_node.iloc[0]['parent_tax_id']  \n",
    "        \n",
    "        if superkingdom_tax_id:  \n",
    "            tax_id_to_superkingdom[tax_id] = (superkingdom_tax_id, superkingdom_name)  \n",
    "\n",
    "    # Get the superkingdom for each species in the species dataframe  \n",
    "    species_df['tax_id_superkingdom'] = species_df['species_id_ncbi'].apply(lambda x: tax_id_to_superkingdom.get(x, (None, None))[0])  \n",
    "    species_df['superkingdom_name'] = species_df['species_id_ncbi'].apply(lambda x: tax_id_to_superkingdom.get(x, (None, None))[1])  \n",
    "\n",
    "    return species_df  "
   ]
  },
  {
   "cell_type": "code",
   "execution_count": 17,
   "id": "65450eb5",
   "metadata": {},
   "outputs": [
    {
     "name": "stdout",
     "output_type": "stream",
     "text": [
      "Execution time: 361.604487896 seconds\n"
     ]
    },
    {
     "name": "stderr",
     "output_type": "stream",
     "text": [
      "/tmp/ipykernel_13409/2099063571.py:45: SettingWithCopyWarning: \n",
      "A value is trying to be set on a copy of a slice from a DataFrame.\n",
      "Try using .loc[row_indexer,col_indexer] = value instead\n",
      "\n",
      "See the caveats in the documentation: https://pandas.pydata.org/pandas-docs/stable/user_guide/indexing.html#returning-a-view-versus-a-copy\n",
      "  species_df['tax_id_superkingdom'] = species_df['species_id_ncbi'].apply(lambda x: tax_id_to_superkingdom.get(x, (None, None))[0])\n",
      "/tmp/ipykernel_13409/2099063571.py:46: SettingWithCopyWarning: \n",
      "A value is trying to be set on a copy of a slice from a DataFrame.\n",
      "Try using .loc[row_indexer,col_indexer] = value instead\n",
      "\n",
      "See the caveats in the documentation: https://pandas.pydata.org/pandas-docs/stable/user_guide/indexing.html#returning-a-view-versus-a-copy\n",
      "  species_df['superkingdom_name'] = species_df['species_id_ncbi'].apply(lambda x: tax_id_to_superkingdom.get(x, (None, None))[1])\n"
     ]
    }
   ],
   "source": [
    "# taxonomic_lineage, species_names\n",
    "import time  \n",
    "\n",
    "start_time = time.process_time()  \n",
    "\n",
    "ncbi_species_ids_and_names_and_domain = add_superkingdom_info(taxonomic_lineage, \n",
    "                                                              species_names,\n",
    "                                                              ncbi_species_ids_and_names.tail(150))\n",
    "end_time = time.process_time()  \n",
    "\n",
    "print(f\"Execution time: {end_time - start_time} seconds\")  "
   ]
  },
  {
   "cell_type": "code",
   "execution_count": 18,
   "id": "2d106086",
   "metadata": {},
   "outputs": [
    {
     "data": {
      "text/html": [
       "<div>\n",
       "<style scoped>\n",
       "    .dataframe tbody tr th:only-of-type {\n",
       "        vertical-align: middle;\n",
       "    }\n",
       "\n",
       "    .dataframe tbody tr th {\n",
       "        vertical-align: top;\n",
       "    }\n",
       "\n",
       "    .dataframe thead th {\n",
       "        text-align: right;\n",
       "    }\n",
       "</style>\n",
       "<table border=\"1\" class=\"dataframe\">\n",
       "  <thead>\n",
       "    <tr style=\"text-align: right;\">\n",
       "      <th></th>\n",
       "      <th>species_id_ncbi</th>\n",
       "      <th>species_name_ncbi</th>\n",
       "      <th>tax_id_superkingdom</th>\n",
       "      <th>superkingdom_name</th>\n",
       "    </tr>\n",
       "  </thead>\n",
       "  <tbody>\n",
       "    <tr>\n",
       "      <th>4083733</th>\n",
       "      <td>3158951</td>\n",
       "      <td>Metrioptera ambigua</td>\n",
       "      <td>2759</td>\n",
       "      <td>Eukaryota</td>\n",
       "    </tr>\n",
       "    <tr>\n",
       "      <th>4084227</th>\n",
       "      <td>3159452</td>\n",
       "      <td>Origocandona grommike</td>\n",
       "      <td>2759</td>\n",
       "      <td>Eukaryota</td>\n",
       "    </tr>\n",
       "    <tr>\n",
       "      <th>4084236</th>\n",
       "      <td>3159464</td>\n",
       "      <td>Neodiplostomum spathoides</td>\n",
       "      <td>2759</td>\n",
       "      <td>Eukaryota</td>\n",
       "    </tr>\n",
       "    <tr>\n",
       "      <th>4084237</th>\n",
       "      <td>3159465</td>\n",
       "      <td>Besnoitia sp. GMore-2024a</td>\n",
       "      <td>2759</td>\n",
       "      <td>Eukaryota</td>\n",
       "    </tr>\n",
       "    <tr>\n",
       "      <th>4084238</th>\n",
       "      <td>3159466</td>\n",
       "      <td>Zeugodacus cucurbitae noda-like virus 2</td>\n",
       "      <td>10239</td>\n",
       "      <td>Viruses</td>\n",
       "    </tr>\n",
       "    <tr>\n",
       "      <th>...</th>\n",
       "      <td>...</td>\n",
       "      <td>...</td>\n",
       "      <td>...</td>\n",
       "      <td>...</td>\n",
       "    </tr>\n",
       "    <tr>\n",
       "      <th>4085087</th>\n",
       "      <td>3161927</td>\n",
       "      <td>Chthoniidae sp. Biologic-PSEU009</td>\n",
       "      <td>2759</td>\n",
       "      <td>Eukaryota</td>\n",
       "    </tr>\n",
       "    <tr>\n",
       "      <th>4085090</th>\n",
       "      <td>3161928</td>\n",
       "      <td>Chthoniidae sp. Biologic-PSEU005</td>\n",
       "      <td>2759</td>\n",
       "      <td>Eukaryota</td>\n",
       "    </tr>\n",
       "    <tr>\n",
       "      <th>4085092</th>\n",
       "      <td>3161929</td>\n",
       "      <td>Chthoniidae sp. Biologic-PSEU008</td>\n",
       "      <td>2759</td>\n",
       "      <td>Eukaryota</td>\n",
       "    </tr>\n",
       "    <tr>\n",
       "      <th>4085094</th>\n",
       "      <td>3161930</td>\n",
       "      <td>Chthoniidae sp. Biologic-PSEU006</td>\n",
       "      <td>2759</td>\n",
       "      <td>Eukaryota</td>\n",
       "    </tr>\n",
       "    <tr>\n",
       "      <th>4085098</th>\n",
       "      <td>3161931</td>\n",
       "      <td>Chthoniidae sp. Biologic-PSEU004</td>\n",
       "      <td>2759</td>\n",
       "      <td>Eukaryota</td>\n",
       "    </tr>\n",
       "  </tbody>\n",
       "</table>\n",
       "<p>150 rows × 4 columns</p>\n",
       "</div>"
      ],
      "text/plain": [
       "        species_id_ncbi                        species_name_ncbi  \\\n",
       "4083733         3158951                      Metrioptera ambigua   \n",
       "4084227         3159452                    Origocandona grommike   \n",
       "4084236         3159464                Neodiplostomum spathoides   \n",
       "4084237         3159465                Besnoitia sp. GMore-2024a   \n",
       "4084238         3159466  Zeugodacus cucurbitae noda-like virus 2   \n",
       "...                 ...                                      ...   \n",
       "4085087         3161927         Chthoniidae sp. Biologic-PSEU009   \n",
       "4085090         3161928         Chthoniidae sp. Biologic-PSEU005   \n",
       "4085092         3161929         Chthoniidae sp. Biologic-PSEU008   \n",
       "4085094         3161930         Chthoniidae sp. Biologic-PSEU006   \n",
       "4085098         3161931         Chthoniidae sp. Biologic-PSEU004   \n",
       "\n",
       "         tax_id_superkingdom superkingdom_name  \n",
       "4083733                 2759         Eukaryota  \n",
       "4084227                 2759         Eukaryota  \n",
       "4084236                 2759         Eukaryota  \n",
       "4084237                 2759         Eukaryota  \n",
       "4084238                10239           Viruses  \n",
       "...                      ...               ...  \n",
       "4085087                 2759         Eukaryota  \n",
       "4085090                 2759         Eukaryota  \n",
       "4085092                 2759         Eukaryota  \n",
       "4085094                 2759         Eukaryota  \n",
       "4085098                 2759         Eukaryota  \n",
       "\n",
       "[150 rows x 4 columns]"
      ]
     },
     "execution_count": 18,
     "metadata": {},
     "output_type": "execute_result"
    }
   ],
   "source": [
    "ncbi_species_ids_and_names_and_domain"
   ]
  },
  {
   "cell_type": "markdown",
   "id": "aed32446",
   "metadata": {},
   "source": [
    "## Parse NCBI taxonomy data from zip files"
   ]
  },
  {
   "cell_type": "code",
   "execution_count": 7,
   "id": "bb10c750",
   "metadata": {},
   "outputs": [],
   "source": [
    "import os  \n",
    "import zipfile  \n",
    "import pandas as pd  \n",
    "\n",
    "# Directory containing ZIP files  \n",
    "zip_directory = '/home/erikz/SRC/research/paul/dsi_origins_proj/data/processed_data/ncbi-lineage-zip-files'  \n",
    "\n",
    "# Create a list to store dataframes  \n",
    "dataframes = []  \n",
    "\n",
    "# Iterate over all files in the specified directory  \n",
    "for file_name in os.listdir(zip_directory):  \n",
    "    if file_name.endswith('.zip'):  \n",
    "        # Construct the full path to the zip file  \n",
    "        file_path = os.path.join(zip_directory, file_name)  \n",
    "        \n",
    "        with zipfile.ZipFile(file_path, 'r') as zip_ref:  \n",
    "            # Extract all contents to a temporary directory  \n",
    "            zip_ref.extractall('tmp')  \n",
    "\n",
    "            # Construct the path to the taxonomy_summary.tsv file  \n",
    "            tsv_path = os.path.join('tmp', 'ncbi_dataset', 'data', 'taxonomy_summary.tsv')  \n",
    "\n",
    "            # Check if the file exists  \n",
    "            if os.path.exists(tsv_path):  \n",
    "                # Read the TSV file into a DataFrame  \n",
    "                df = pd.read_csv(tsv_path, sep='\\t')  \n",
    "                # Append the DataFrame to the list  \n",
    "                dataframes.append(df)  \n",
    "\n",
    "# Concatenate all DataFrames into a single DataFrame  \n",
    "result_df = pd.concat(dataframes, ignore_index=True)  \n",
    "\n",
    "# Save the resulting DataFrame to a CSV file in the zip file directory  \n",
    "result_df.to_csv(os.path.join(zip_directory, 'results_taxonomic_lineage_ncbi.csv'), index=False)  \n",
    "\n",
    "# Clean up by removing the temporary directory  \n",
    "import shutil  \n",
    "shutil.rmtree('tmp')  "
   ]
  },
  {
   "cell_type": "markdown",
   "id": "65123244",
   "metadata": {},
   "source": [
    "### Domain info"
   ]
  },
  {
   "cell_type": "code",
   "execution_count": 2,
   "id": "c6ddfd16",
   "metadata": {},
   "outputs": [],
   "source": [
    "df_wildsi_species = pd.read_csv('../../data/processed_data/2024-08-06_df_wildsi_species.csv')"
   ]
  },
  {
   "cell_type": "code",
   "execution_count": 3,
   "id": "e350688f",
   "metadata": {},
   "outputs": [],
   "source": [
    "df_wildsi_species = df_wildsi_species[['TAXID', 'CODE', 'ORGANISM']].drop_duplicates()"
   ]
  },
  {
   "cell_type": "code",
   "execution_count": 4,
   "id": "6fd2e3d5",
   "metadata": {},
   "outputs": [
    {
     "name": "stderr",
     "output_type": "stream",
     "text": [
      "/tmp/ipykernel_1482346/3402134822.py:1: DtypeWarning: Columns (28,29,30,31,32,33,34,35,36,38,40,42,44,46,48,50) have mixed types. Specify dtype option on import or set low_memory=False.\n",
      "  df_ncbi_lineage = pd.read_csv('../../data/processed_data/ncbi-lineage-zip-files/results_taxonomic_lineage_ncbi.csv')\n"
     ]
    }
   ],
   "source": [
    "df_ncbi_lineage = pd.read_csv('../../data/processed_data/ncbi-lineage-zip-files/results_taxonomic_lineage_ncbi.csv')"
   ]
  },
  {
   "cell_type": "code",
   "execution_count": 5,
   "id": "9a4bf8b1",
   "metadata": {},
   "outputs": [],
   "source": [
    "df_ncbi_lineage = df_ncbi_lineage[['Taxid', 'Rank', 'Group name', 'Superkingdom name',\n",
    "                                  'Kingdom name', 'Phylum name', 'Class name', 'Order name',\n",
    "                                  'Family name', 'Genus name', 'Species name']]\n",
    "\n",
    "df_ncbi_lineage = df_ncbi_lineage.drop_duplicates(subset='Taxid', keep='first')"
   ]
  },
  {
   "cell_type": "code",
   "execution_count": 6,
   "id": "1840f830",
   "metadata": {},
   "outputs": [],
   "source": [
    "df_wildsi_species.columns = ['Taxid', 'CODE', 'ORGANISM']"
   ]
  },
  {
   "cell_type": "code",
   "execution_count": 7,
   "id": "ff579262",
   "metadata": {},
   "outputs": [],
   "source": [
    "df_wildsi_species = df_wildsi_species[df_wildsi_species.Taxid.notna()]\n",
    "df_ncbi_lineage = df_ncbi_lineage[df_ncbi_lineage.Taxid.notna()]\n",
    "df_wildsi_species.Taxid = df_wildsi_species.Taxid.astype(int)\n",
    "df_ncbi_lineage.Taxid = df_ncbi_lineage.Taxid.astype(int)"
   ]
  },
  {
   "cell_type": "code",
   "execution_count": 8,
   "id": "3981a3c4",
   "metadata": {},
   "outputs": [],
   "source": [
    "df_wildsi_species = df_wildsi_species.drop_duplicates(subset='Taxid', keep='first')"
   ]
  },
  {
   "cell_type": "code",
   "execution_count": 9,
   "id": "72752f19",
   "metadata": {},
   "outputs": [
    {
     "data": {
      "text/plain": [
       "Taxid\n",
       "2132616    1\n",
       "1676019    1\n",
       "1678791    1\n",
       "1695213    1\n",
       "1695209    1\n",
       "          ..\n",
       "310543     1\n",
       "1816110    1\n",
       "103249     1\n",
       "1537424    1\n",
       "1838057    1\n",
       "Name: count, Length: 1532757, dtype: int64"
      ]
     },
     "execution_count": 9,
     "metadata": {},
     "output_type": "execute_result"
    }
   ],
   "source": [
    "df_wildsi_species.Taxid.value_counts()"
   ]
  },
  {
   "cell_type": "code",
   "execution_count": 10,
   "id": "d4935abb",
   "metadata": {},
   "outputs": [],
   "source": [
    "df_wildsi_with_ncbi_lineage = df_wildsi_species.merge(df_ncbi_lineage, how='left', on='Taxid')"
   ]
  },
  {
   "cell_type": "code",
   "execution_count": 11,
   "id": "db6d0d06",
   "metadata": {},
   "outputs": [
    {
     "data": {
      "text/plain": [
       "Taxid\n",
       "2132616    1\n",
       "1676019    1\n",
       "1678791    1\n",
       "1695213    1\n",
       "1695209    1\n",
       "          ..\n",
       "310543     1\n",
       "1816110    1\n",
       "103249     1\n",
       "1537424    1\n",
       "1838057    1\n",
       "Name: count, Length: 1532757, dtype: int64"
      ]
     },
     "execution_count": 11,
     "metadata": {},
     "output_type": "execute_result"
    }
   ],
   "source": [
    "df_wildsi_with_ncbi_lineage.Taxid.value_counts()"
   ]
  },
  {
   "cell_type": "code",
   "execution_count": 12,
   "id": "adcf8a7c",
   "metadata": {},
   "outputs": [
    {
     "data": {
      "text/plain": [
       "Superkingdom name\n",
       "Eukaryota    1068788\n",
       "Bacteria      249329\n",
       "Viruses       201677\n",
       "Archaea         5325\n",
       "Name: count, dtype: int64"
      ]
     },
     "execution_count": 12,
     "metadata": {},
     "output_type": "execute_result"
    }
   ],
   "source": [
    "df_wildsi_with_ncbi_lineage['Superkingdom name'].value_counts()"
   ]
  },
  {
   "cell_type": "markdown",
   "id": "fa0b1396",
   "metadata": {},
   "source": [
    "## Save wildsi species with ncbi lineage info"
   ]
  },
  {
   "cell_type": "code",
   "execution_count": 14,
   "id": "6f07e527",
   "metadata": {},
   "outputs": [],
   "source": [
    "df_wildsi_with_ncbi_lineage.to_csv('../2024-08-28_df_wildsi_with_ncbi_lineage.csv')"
   ]
  },
  {
   "cell_type": "code",
   "execution_count": null,
   "id": "ab7b2b7a",
   "metadata": {},
   "outputs": [],
   "source": []
  }
 ],
 "metadata": {
  "kernelspec": {
   "display_name": "Python [conda env:base] *",
   "language": "python",
   "name": "conda-base-py"
  },
  "language_info": {
   "codemirror_mode": {
    "name": "ipython",
    "version": 3
   },
   "file_extension": ".py",
   "mimetype": "text/x-python",
   "name": "python",
   "nbconvert_exporter": "python",
   "pygments_lexer": "ipython3",
   "version": "3.12.7"
  }
 },
 "nbformat": 4,
 "nbformat_minor": 5
}
