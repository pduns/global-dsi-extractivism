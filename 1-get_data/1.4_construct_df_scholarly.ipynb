{
 "cells": [
  {
   "cell_type": "code",
   "execution_count": 1,
   "metadata": {},
   "outputs": [
    {
     "name": "stdout",
     "output_type": "stream",
     "text": [
      "env: folder=X:\\5_Research\\Paul\\dsi_origins\\\n"
     ]
    }
   ],
   "source": [
    "from Bio import SeqIO\n",
    "from collections import Counter\n",
    "import pandas as pd \n",
    "import re\n",
    "import requests\n",
    "import json\n",
    "import time\n",
    "import glob\n",
    "import pprint\n",
    "import seaborn as sns\n",
    "import pylab as plt\n",
    "from matplotlib.ticker import MaxNLocator\n",
    "from matplotlib.colors import ListedColormap\n",
    "import pycountry \n",
    "import pycountry_convert as pc\n",
    "pp = pprint.PrettyPrinter()\n",
    "import numpy as np\n",
    "from tabulate import tabulate\n",
    "import geopandas as gpd\n",
    "from geopandas import GeoDataFrame\n",
    "import matplotlib.pyplot as plt\n",
    "from shapely.geometry import Point, Polygon\n",
    "import regex as re\n",
    "import plotly.graph_objects as go\n",
    "import os\n",
    "\n",
    "from string import punctuation\n",
    "from nltk.stem.snowball import SnowballStemmer\n",
    "from nltk.corpus import stopwords\n",
    "from nltk.stem import WordNetLemmatizer\n",
    "from nltk.tokenize import word_tokenize\n",
    "from nltk.corpus import wordnet\n",
    "import nltk\n",
    "from bs4 import BeautifulSoup\n",
    "\n",
    "\n",
    " \n",
    "\n",
    "stemmer=SnowballStemmer(\"english\")\n",
    "import sklearn\n",
    "from sklearn.feature_extraction.text import CountVectorizer\n",
    "from sklearn.feature_extraction.text import TfidfVectorizer\n",
    "\n",
    "import networkx as nx\n",
    "from collections import defaultdict\n",
    "from itertools import combinations\n",
    "\n",
    "\n",
    "import textmining\n",
    "  \n",
    "\n",
    "%env folder = X:\\5_Research\\Paul\\dsi_origins\\"
   ]
  },
  {
   "cell_type": "code",
   "execution_count": 2,
   "metadata": {},
   "outputs": [],
   "source": [
    "path = %env folder"
   ]
  },
  {
   "cell_type": "markdown",
   "metadata": {},
   "source": [
    "### 1. Open and merge data"
   ]
  },
  {
   "cell_type": "code",
   "execution_count": 4,
   "metadata": {},
   "outputs": [],
   "source": [
    "publist_pmid_int = list(pd.read_csv(path+R'processed_data\\clean_pmids.csv', index_col = 0)['PRIMARY_PMID'])"
   ]
  },
  {
   "cell_type": "code",
   "execution_count": 5,
   "metadata": {},
   "outputs": [],
   "source": [
    "publist_pmcid = list(pd.read_csv(path+R'processed_data\\clean_pmcids.csv', index_col = 0)['PRIMARY_PMCID'])"
   ]
  },
  {
   "cell_type": "code",
   "execution_count": 6,
   "metadata": {},
   "outputs": [],
   "source": [
    "publist_doi = list(pd.read_csv(path+R'processed_data\\clean_dois.csv', index_col = 0)['PRIMARY_DOI'])"
   ]
  },
  {
   "cell_type": "code",
   "execution_count": 18,
   "metadata": {},
   "outputs": [],
   "source": [
    "# start with pmid data\n",
    "with open(path+R'raw_data\\full-data_scholarly-lens_pmid.json') as json_string:\n",
    "    data_dict_pmid = json.load(json_string)"
   ]
  },
  {
   "cell_type": "code",
   "execution_count": 20,
   "metadata": {},
   "outputs": [],
   "source": [
    "pubmed_ids = []\n",
    "abstracts = []\n",
    "titles = []\n",
    "keywords = []\n",
    "dates = []\n",
    "affiliations = []\n",
    "affiliations_ids = []\n",
    "affiliations_countries = []\n",
    "first_author = []\n",
    "last_author =  []\n",
    "\n",
    "for i in data_dict_pmid: \n",
    "            for publication in i: \n",
    "                nr = 0\n",
    "                for e in publication['external_ids']:\n",
    "                    for keys, values in e.items():\n",
    "                        if values == 'pmid' and int(e['value']) in publist_pmid_int: \n",
    "                            nr = nr+1\n",
    "                            if nr >= 2:\n",
    "                                break\n",
    "\n",
    "                            n = 1\n",
    "                            if 'authors' in publication.keys(): \n",
    "                                nr_authors = len(publication['authors'])\n",
    "                                for author in publication['authors']: # I need the authors, because I need their affiliation countries\n",
    "                                    if n == 1: \n",
    "                                        first_author.append(1)\n",
    "                                    else: \n",
    "                                        first_author.append(0)\n",
    "                                    if n == nr_authors: \n",
    "                                        last_author.append(1)\n",
    "                                    else: \n",
    "                                        last_author.append(0)\n",
    "                                    n = n+1\n",
    "                                        \n",
    "                                    # pubmedid\n",
    "                                    pubmed_ids.append(int(e['value']))\n",
    "                                    titles.append(publication['title'])\n",
    "                                    \n",
    "                                    abstract_placeholder = ''\n",
    "                                    if 'abstract' in publication.keys():\n",
    "                                        abstract_placeholder = publication['abstract']\n",
    "                                    abstracts.append(abstract_placeholder)\n",
    "                                    \n",
    "                                    keyword_placeholder = ''\n",
    "                                    if 'keywords' in publication.keys():\n",
    "                                        keyword_placeholder = publication['keywords']\n",
    "                                    keywords.append(keyword_placeholder)\n",
    "                                    \n",
    "                                \n",
    "                                    \n",
    "                                    dates.append(publication['year_published'])\n",
    "                                    \n",
    "                                    \n",
    "                                    \n",
    "                                    #--deleted code for other data'\n",
    "\n",
    "                                    ##afilliations\n",
    "                                    affiliation_placeholder = ''\n",
    "                                    affiliation_ids_placeholder = ''\n",
    "                                    country_placeholder = np.NaN\n",
    "                                    if 'affiliations' in author.keys() and author['affiliations'] != []:\n",
    "                                        affiliation_placeholder = author['affiliations'][0]['name']\n",
    "                                        \n",
    "                                        #affiliation ids\n",
    "                                        if 'ids' in author['affiliations'][0]:\n",
    "                                            for id_dict in author['affiliations'][0]['ids']:\n",
    "                                                if 'magid' in id_dict.values():\n",
    "                                                    affiliation_ids_placeholder = id_dict['value']\n",
    "                                                break\n",
    "                                            \n",
    "\n",
    "                                        #countries\n",
    "                                        if 'country_code' in author['affiliations'][0].keys():\n",
    "                                            country_placeholder = author['affiliations'][0]['country_code']\n",
    "\n",
    "                                    affiliations.append(affiliation_placeholder)\n",
    "                                    affiliations_ids.append(affiliation_ids_placeholder)\n",
    "                                    affiliations_countries.append(country_placeholder)\n",
    "                                    \n",
    "                                    \n",
    "                                    \n",
    "                                \n",
    "\n",
    "# export it as dictionary\n",
    "dict_author_edges_pmid = {'pubmed_id': pubmed_ids, 'title': titles, 'abstract': abstracts, 'keywords': keywords, 'year_published': dates, 'first_author': first_author, 'last_author': last_author, 'affiliation_country' : affiliations_countries, 'affiliation': affiliations, 'affiliation_id': affiliations_ids} \n",
    "df_scholarly_pmid = pd.DataFrame(dict_author_edges_pmid)"
   ]
  },
  {
   "cell_type": "code",
   "execution_count": 21,
   "metadata": {},
   "outputs": [
    {
     "data": {
      "text/plain": [
       "81093"
      ]
     },
     "execution_count": 21,
     "metadata": {},
     "output_type": "execute_result"
    }
   ],
   "source": [
    "#this is the number of the original The Lens dict\n",
    "publications_pmid = []\n",
    "for scroll in data_dict_pmid: \n",
    "    for pub in scroll: \n",
    "        publications_pmid.append(pub['lens_id'])\n",
    "len(set(publications_pmid))"
   ]
  },
  {
   "cell_type": "code",
   "execution_count": 22,
   "metadata": {},
   "outputs": [
    {
     "data": {
      "text/plain": [
       "81090"
      ]
     },
     "execution_count": 22,
     "metadata": {},
     "output_type": "execute_result"
    }
   ],
   "source": [
    "#this is the final amount after cleaning pubmeds\n",
    "len(set(df_scholarly_pmid['pubmed_id']))"
   ]
  },
  {
   "cell_type": "code",
   "execution_count": 23,
   "metadata": {},
   "outputs": [],
   "source": [
    "#save df scholarly pmid\n",
    "df_scholarly_pmid.to_csv(path+R'processed_data/scholarly_pmid.csv')"
   ]
  },
  {
   "cell_type": "code",
   "execution_count": 24,
   "metadata": {},
   "outputs": [],
   "source": [
    "#pmcids\n",
    "\n",
    "with open(path+R'raw_data\\full-data_scholarly-lens_pmcid.json') as json_string:\n",
    "    data_dict_pmcid = json.load(json_string)"
   ]
  },
  {
   "cell_type": "code",
   "execution_count": 25,
   "metadata": {},
   "outputs": [],
   "source": [
    "pmcids_clean = [x.lower() for x in list(set(publist_pmcid))]"
   ]
  },
  {
   "cell_type": "code",
   "execution_count": 26,
   "metadata": {},
   "outputs": [],
   "source": [
    "pmcid_ids = []\n",
    "titles = []\n",
    "abstracts = []\n",
    "keywords = []\n",
    "dates = []\n",
    "affiliations = []\n",
    "affiliations_ids = []\n",
    "affiliations_countries = []\n",
    "first_author = []\n",
    "last_author =  []\n",
    "\n",
    "for i in data_dict_pmcid: \n",
    "            for publication in i: \n",
    "                nr = 0\n",
    "                for e in publication['external_ids']:\n",
    "                    for keys, values in e.items():\n",
    "                        if values == 'pmcid' and e['value'] in pmcids_clean: \n",
    "                            nr = nr+1\n",
    "                            if nr >= 2:\n",
    "                                break\n",
    "\n",
    "                            n = 1\n",
    "                            if 'authors' in publication.keys(): \n",
    "                                nr_authors = len(publication['authors'])\n",
    "                                for author in publication['authors']: # I need the authors, because I need their affiliation countries\n",
    "                                    if n == 1: \n",
    "                                        first_author.append(1)\n",
    "                                    else: \n",
    "                                        first_author.append(0)\n",
    "                                    if n == nr_authors: \n",
    "                                        last_author.append(1)\n",
    "                                    else: \n",
    "                                        last_author.append(0)\n",
    "                                    n = n+1\n",
    "                                    \n",
    "                                    # pubmedid\n",
    "                                    pmcid_ids.append(e['value'])\n",
    "                                    titles.append(publication['title'])\n",
    "                                    abstract_placeholder = ''\n",
    "                                    if 'abstract' in publication.keys():\n",
    "                                        abstract_placeholder = publication['abstract']\n",
    "                                    abstracts.append(abstract_placeholder)\n",
    "                                    \n",
    "                                    keyword_placeholder = ''\n",
    "                                    if 'keywords' in publication.keys():\n",
    "                                        keyword_placeholder = publication['keywords']\n",
    "                                    keywords.append(keyword_placeholder)\n",
    "                                    \n",
    "                                    dates.append(publication['year_published'])\n",
    "                                    \n",
    "                                    \n",
    "                                    #--deleted code for other data'\n",
    "\n",
    "                                    ##afilliations\n",
    "                                    affiliation_placeholder = ''\n",
    "                                    affiliation_ids_placeholder = ''\n",
    "                                    country_placeholder = np.NaN\n",
    "                                    if 'affiliations' in author.keys() and author['affiliations'] != [] and author['affiliations'] != [{}]:\n",
    "                                        affiliation_placeholder = author['affiliations'][0]['name']\n",
    "                                        \n",
    "                                        #affiliation ids\n",
    "                                        if 'ids' in author['affiliations'][0]:\n",
    "                                            for id_dict in author['affiliations'][0]['ids']:\n",
    "                                                if 'magid' in id_dict.values():\n",
    "                                                    affiliation_ids_placeholder = id_dict['value']\n",
    "                                                break\n",
    "                                            \n",
    "\n",
    "                                        #countries\n",
    "                                        if 'country_code' in author['affiliations'][0].keys():\n",
    "                                            country_placeholder = author['affiliations'][0]['country_code']\n",
    "\n",
    "                                    affiliations.append(affiliation_placeholder)\n",
    "                                    affiliations_ids.append(affiliation_ids_placeholder)\n",
    "                                    affiliations_countries.append(country_placeholder)\n",
    "                                    \n",
    "                                \n",
    "\n",
    "# export it as dictionary\n",
    "dict_author_edges_pmcid = {'pmcid_id': pmcid_ids, 'title': titles, 'keywords': keywords, 'abstract': abstracts, 'year_published': dates, 'first_author': first_author, 'last_author': last_author, 'affiliation_country' : affiliations_countries, 'affiliation': affiliations, 'affiliation_id': affiliations_ids} \n",
    "df_scholarly_pmcid = pd.DataFrame(dict_author_edges_pmcid)"
   ]
  },
  {
   "cell_type": "code",
   "execution_count": 27,
   "metadata": {},
   "outputs": [
    {
     "data": {
      "text/plain": [
       "17487"
      ]
     },
     "execution_count": 27,
     "metadata": {},
     "output_type": "execute_result"
    }
   ],
   "source": [
    "#nr of publications from the lens dict\n",
    "publications_pmcid = []\n",
    "for scroll in data_dict_pmcid: \n",
    "    for pub in scroll: \n",
    "        publications_pmcid.append(pub['lens_id'])\n",
    "len(set(publications_pmcid))"
   ]
  },
  {
   "cell_type": "code",
   "execution_count": 28,
   "metadata": {},
   "outputs": [
    {
     "data": {
      "text/plain": [
       "17481"
      ]
     },
     "execution_count": 28,
     "metadata": {},
     "output_type": "execute_result"
    }
   ],
   "source": [
    "#final amount after cleaning\n",
    "len(set(df_scholarly_pmcid['pmcid_id']))"
   ]
  },
  {
   "cell_type": "code",
   "execution_count": 29,
   "metadata": {},
   "outputs": [],
   "source": [
    "df_scholarly_pmcid.to_csv(path+R'processed_data\\scholarly_pmcid.csv')"
   ]
  },
  {
   "cell_type": "code",
   "execution_count": 30,
   "metadata": {},
   "outputs": [],
   "source": [
    "#dois\n",
    "\n",
    "with open(path+R'raw_data\\full-data_scholarly-lens_doi.json') as json_string:\n",
    "    data_dict_doi = json.load(json_string)\n"
   ]
  },
  {
   "cell_type": "code",
   "execution_count": 31,
   "metadata": {},
   "outputs": [],
   "source": [
    "doi_ids = []\n",
    "titles = []\n",
    "abstracts = []\n",
    "keywords = []\n",
    "dates = []\n",
    "affiliations = []\n",
    "affiliations_ids = []\n",
    "affiliations_countries = []\n",
    "first_author = []\n",
    "last_author =  []\n",
    "\n",
    "for i in data_dict_doi: \n",
    "            for publication in i: \n",
    "                nr = 0\n",
    "                for e in publication['external_ids']:\n",
    "                    for keys, values in e.items():\n",
    "                        if values == 'doi' and e['value'] in publist_doi: \n",
    "                            nr = nr+1\n",
    "                            if nr >= 2:\n",
    "                                break\n",
    "\n",
    "                            n = 1\n",
    "                            if 'authors' in publication.keys(): \n",
    "                                nr_authors = len(publication['authors'])\n",
    "                                for author in publication['authors']: # I need the authors, because I need their affiliation countries\n",
    "                                    if n == 1: \n",
    "                                        first_author.append(1)\n",
    "                                    else: \n",
    "                                        first_author.append(0)\n",
    "                                    if n == nr_authors: \n",
    "                                        last_author.append(1)\n",
    "                                    else: \n",
    "                                        last_author.append(0)\n",
    "                                    n = n+1\n",
    "                                    \n",
    "                                    # pubmedid\n",
    "                                    doi_ids.append(e['value'])\n",
    "                                    titles.append(publication['title'])\n",
    "                                    abstract_placeholder = ''\n",
    "                                    if 'abstract' in publication.keys():\n",
    "                                        abstract_placeholder = publication['abstract']\n",
    "                                    abstracts.append(abstract_placeholder)\n",
    "                                    \n",
    "                                    keyword_placeholder = ''\n",
    "                                    if 'keywords' in publication.keys():\n",
    "                                        keyword_placeholder = publication['keywords']\n",
    "                                    keywords.append(keyword_placeholder)\n",
    "                                    \n",
    "                                    dates.append(publication['year_published'])\n",
    "                                    \n",
    "                                    \n",
    "                                    #--deleted code for other data'\n",
    "\n",
    "                                    ##afilliations\n",
    "                                    affiliation_placeholder = ''\n",
    "                                    affiliation_ids_placeholder = ''\n",
    "                                    country_placeholder = np.NaN\n",
    "                                    if 'affiliations' in author.keys() and author['affiliations'] != [] and author['affiliations'] != [{}]:\n",
    "                                        affiliation_placeholder = author['affiliations'][0]['name']\n",
    "                                        \n",
    "                                        #affiliation ids\n",
    "                                        if 'ids' in author['affiliations'][0]:\n",
    "                                            for id_dict in author['affiliations'][0]['ids']:\n",
    "                                                if 'magid' in id_dict.values():\n",
    "                                                    affiliation_ids_placeholder = id_dict['value']\n",
    "                                                break\n",
    "                                            \n",
    "\n",
    "                                        #countries\n",
    "                                        if 'country_code' in author['affiliations'][0].keys():\n",
    "                                            country_placeholder = author['affiliations'][0]['country_code']\n",
    "\n",
    "                                    affiliations.append(affiliation_placeholder)\n",
    "                                    affiliations_ids.append(affiliation_ids_placeholder)\n",
    "                                    affiliations_countries.append(country_placeholder)\n",
    "                                    \n",
    "                                \n",
    "\n",
    "# export it as dictionary\n",
    "dict_author_edges_doi = {'doi_id': doi_ids, 'title': titles, 'keywords': keywords, 'abstract': abstracts, 'year_published': dates, 'first_author': first_author, 'last_author': last_author, 'affiliation_country' : affiliations_countries, 'affiliation': affiliations, 'affiliation_id': affiliations_ids} \n",
    "df_scholarly_doi = pd.DataFrame(dict_author_edges_doi)\n"
   ]
  },
  {
   "cell_type": "code",
   "execution_count": 32,
   "metadata": {},
   "outputs": [
    {
     "data": {
      "text/plain": [
       "2435"
      ]
     },
     "execution_count": 32,
     "metadata": {},
     "output_type": "execute_result"
    }
   ],
   "source": [
    "#nr of publications from the lens dict\n",
    "publications_doi = []\n",
    "for scroll in data_dict_doi: \n",
    "    for pub in scroll: \n",
    "        publications_doi.append(pub['lens_id'])\n",
    "len(set(publications_doi))"
   ]
  },
  {
   "cell_type": "code",
   "execution_count": 33,
   "metadata": {},
   "outputs": [
    {
     "data": {
      "text/plain": [
       "1843"
      ]
     },
     "execution_count": 33,
     "metadata": {},
     "output_type": "execute_result"
    }
   ],
   "source": [
    "#final amount after cleaning\n",
    "len(set(df_scholarly_doi['doi_id']))"
   ]
  },
  {
   "cell_type": "code",
   "execution_count": 34,
   "metadata": {},
   "outputs": [],
   "source": [
    "df_scholarly_doi.to_csv(path+R'processed_data\\scholarly_doi.csv')"
   ]
  },
  {
   "cell_type": "code",
   "execution_count": 35,
   "metadata": {},
   "outputs": [],
   "source": [
    "#df_scholarly_pmid = pd.read_csv(path+R'processed_data\\scholarly_pmid.csv', index_col = 0,keep_default_na=False, na_values=[np.nan])\n",
    "#df_scholarly_pmcid = pd.read_csv(path+R'processed_data\\scholarly_pmcid.csv', index_col = 0,keep_default_na=False, na_values=[np.nan])\n",
    "#df_scholarly_doi = pd.read_csv(path+R'processed_data\\scholarly_doi.csv', index_col = 0,keep_default_na=False, na_values=[np.nan])"
   ]
  },
  {
   "cell_type": "code",
   "execution_count": 36,
   "metadata": {},
   "outputs": [],
   "source": [
    "df_scholarly = pd.DataFrame(pd.concat([df_scholarly_pmid['title'], df_scholarly_pmcid['title'], df_scholarly_doi['title']]).drop_duplicates(), columns = ['title']).reset_index(drop = True)"
   ]
  },
  {
   "cell_type": "code",
   "execution_count": 54,
   "metadata": {},
   "outputs": [
    {
     "data": {
      "text/plain": [
       "96841"
      ]
     },
     "execution_count": 54,
     "metadata": {},
     "output_type": "execute_result"
    }
   ],
   "source": [
    "len(set(df_scholarly['title']))"
   ]
  },
  {
   "cell_type": "code",
   "execution_count": 56,
   "metadata": {},
   "outputs": [],
   "source": [
    "df_scholarly = pd.merge(df_scholarly, df_scholarly_pmid[['title', 'pubmed_id']].drop_duplicates(), how = 'left')\n",
    "df_scholarly = pd.merge(df_scholarly, df_scholarly_pmcid[['title', 'pmcid_id']].drop_duplicates(), how = 'left')\n",
    "df_scholarly = pd.merge(df_scholarly, df_scholarly_doi[['title', 'doi_id']].drop_duplicates(), how = 'left')\n"
   ]
  },
  {
   "cell_type": "code",
   "execution_count": 58,
   "metadata": {},
   "outputs": [],
   "source": [
    "df_other_pub_info = pd.DataFrame(pd.concat([df_scholarly_pmid.drop(columns = ['pubmed_id', 'keywords']), df_scholarly_pmcid.drop(columns = ['pmcid_id', 'keywords']), df_scholarly_doi.drop(columns = ['doi_id', 'keywords'])])).drop_duplicates().reset_index(drop = True)"
   ]
  },
  {
   "cell_type": "code",
   "execution_count": 62,
   "metadata": {},
   "outputs": [],
   "source": [
    "df_scholarly  = pd.merge(df_scholarly, df_other_pub_info, how = 'left')\n",
    "#at this stage a a handful of publications has multiple ids because they were wrongly assigned the same title, but I will those few cases in the next step)"
   ]
  },
  {
   "cell_type": "markdown",
   "metadata": {},
   "source": [
    "### 2. Select one id per publication for further analysis"
   ]
  },
  {
   "cell_type": "code",
   "execution_count": 64,
   "metadata": {},
   "outputs": [],
   "source": [
    "def create_title_id_dict(df):\n",
    "    # Make sure to select the relevant columns and handle duplicates\n",
    "    df_nodup = df[['title', 'pubmed_id', 'pmcid_id', 'doi_id']].drop_duplicates().reset_index(drop = True)\n",
    "    \n",
    "    # Create a new Series with the first valid ID in the order of priority\n",
    "    df_nodup['selected_id'] = df_nodup[['pubmed_id', 'pmcid_id', 'doi_id']].bfill(axis=1).iloc[:, 0]\n",
    "    \n",
    "    # Create a dictionary mapping titles to their selected IDs\n",
    "    title_id_dict = df_nodup.set_index('title')['selected_id'].to_dict()\n",
    "    \n",
    "    return title_id_dict"
   ]
  },
  {
   "cell_type": "code",
   "execution_count": 66,
   "metadata": {},
   "outputs": [
    {
     "name": "stderr",
     "output_type": "stream",
     "text": [
      "C:\\Users\\a494-nipw010\\AppData\\Local\\Temp\\ipykernel_20044\\2160015082.py:6: FutureWarning: Downcasting object dtype arrays on .fillna, .ffill, .bfill is deprecated and will change in a future version. Call result.infer_objects(copy=False) instead. To opt-in to the future behavior, set `pd.set_option('future.no_silent_downcasting', True)`\n",
      "  df_nodup['selected_id'] = df_nodup[['pubmed_id', 'pmcid_id', 'doi_id']].bfill(axis=1).iloc[:, 0]\n"
     ]
    }
   ],
   "source": [
    "# Create the title-to-ID dictionary\n",
    "title_id_dict = create_title_id_dict(df_scholarly)"
   ]
  },
  {
   "cell_type": "code",
   "execution_count": 68,
   "metadata": {},
   "outputs": [],
   "source": [
    "df_scholarly['id_select'] = df_scholarly['title'].map(title_id_dict)"
   ]
  },
  {
   "cell_type": "code",
   "execution_count": 70,
   "metadata": {},
   "outputs": [
    {
     "data": {
      "text/plain": [
       "96841"
      ]
     },
     "execution_count": 70,
     "metadata": {},
     "output_type": "execute_result"
    }
   ],
   "source": [
    "#final nr of publications \n",
    "len(set(df_scholarly['id_select']))"
   ]
  },
  {
   "cell_type": "code",
   "execution_count": 3,
   "metadata": {},
   "outputs": [
    {
     "data": {
      "text/plain": [
       "4270"
      ]
     },
     "execution_count": 3,
     "metadata": {},
     "output_type": "execute_result"
    }
   ],
   "source": [
    "101111 - 96841"
   ]
  },
  {
   "cell_type": "code",
   "execution_count": 72,
   "metadata": {},
   "outputs": [],
   "source": [
    "df_scholarly.to_csv(path+R'processed_data\\scholarly.csv')"
   ]
  },
  {
   "cell_type": "markdown",
   "metadata": {},
   "source": [
    "### overview"
   ]
  },
  {
   "cell_type": "code",
   "execution_count": 74,
   "metadata": {},
   "outputs": [
    {
     "data": {
      "text/html": [
       "<div>\n",
       "<style scoped>\n",
       "    .dataframe tbody tr th:only-of-type {\n",
       "        vertical-align: middle;\n",
       "    }\n",
       "\n",
       "    .dataframe tbody tr th {\n",
       "        vertical-align: top;\n",
       "    }\n",
       "\n",
       "    .dataframe thead th {\n",
       "        text-align: right;\n",
       "    }\n",
       "</style>\n",
       "<table border=\"1\" class=\"dataframe\">\n",
       "  <thead>\n",
       "    <tr style=\"text-align: right;\">\n",
       "      <th></th>\n",
       "      <th>title</th>\n",
       "      <th>pubmed_id</th>\n",
       "      <th>pmcid_id</th>\n",
       "      <th>doi_id</th>\n",
       "      <th>abstract</th>\n",
       "      <th>year_published</th>\n",
       "      <th>first_author</th>\n",
       "      <th>last_author</th>\n",
       "      <th>affiliation_country</th>\n",
       "      <th>affiliation</th>\n",
       "      <th>affiliation_id</th>\n",
       "      <th>id_select</th>\n",
       "    </tr>\n",
       "  </thead>\n",
       "  <tbody>\n",
       "  </tbody>\n",
       "</table>\n",
       "</div>"
      ],
      "text/plain": [
       "Empty DataFrame\n",
       "Columns: [title, pubmed_id, pmcid_id, doi_id, abstract, year_published, first_author, last_author, affiliation_country, affiliation, affiliation_id, id_select]\n",
       "Index: []"
      ]
     },
     "execution_count": 74,
     "metadata": {},
     "output_type": "execute_result"
    }
   ],
   "source": [
    "df_scholarly[df_scholarly['title'].isna()]"
   ]
  },
  {
   "cell_type": "code",
   "execution_count": 76,
   "metadata": {},
   "outputs": [
    {
     "data": {
      "text/plain": [
       "19381"
      ]
     },
     "execution_count": 76,
     "metadata": {},
     "output_type": "execute_result"
    }
   ],
   "source": [
    "len(set(df_scholarly['id_select'][df_scholarly['abstract'] == '']))"
   ]
  },
  {
   "cell_type": "code",
   "execution_count": 78,
   "metadata": {},
   "outputs": [
    {
     "data": {
      "text/plain": [
       "0"
      ]
     },
     "execution_count": 78,
     "metadata": {},
     "output_type": "execute_result"
    }
   ],
   "source": [
    "len(set(df_scholarly['id_select'][df_scholarly['year_published']== '']))"
   ]
  },
  {
   "cell_type": "code",
   "execution_count": 80,
   "metadata": {},
   "outputs": [
    {
     "data": {
      "text/plain": [
       "0"
      ]
     },
     "execution_count": 80,
     "metadata": {},
     "output_type": "execute_result"
    }
   ],
   "source": [
    "len(set(df_scholarly['id_select'][df_scholarly['first_author']== '']))"
   ]
  },
  {
   "cell_type": "code",
   "execution_count": 82,
   "metadata": {},
   "outputs": [
    {
     "data": {
      "text/plain": [
       "0"
      ]
     },
     "execution_count": 82,
     "metadata": {},
     "output_type": "execute_result"
    }
   ],
   "source": [
    "len(set(df_scholarly['id_select'][df_scholarly['last_author']== '']))"
   ]
  },
  {
   "cell_type": "code",
   "execution_count": 84,
   "metadata": {},
   "outputs": [
    {
     "data": {
      "text/plain": [
       "84859"
      ]
     },
     "execution_count": 84,
     "metadata": {},
     "output_type": "execute_result"
    }
   ],
   "source": [
    "#nr of publications where at least one affiliation country is known\n",
    "len(set(df_scholarly['id_select'][df_scholarly['affiliation_country'].notna()]))"
   ]
  },
  {
   "cell_type": "code",
   "execution_count": 86,
   "metadata": {},
   "outputs": [
    {
     "data": {
      "text/plain": [
       "48976"
      ]
     },
     "execution_count": 86,
     "metadata": {},
     "output_type": "execute_result"
    }
   ],
   "source": [
    "#nr of publiations where at least on affiliation country is unknown\n",
    "len(set(df_scholarly['id_select'][df_scholarly['affiliation_country'].isna()]))"
   ]
  },
  {
   "cell_type": "code",
   "execution_count": 88,
   "metadata": {},
   "outputs": [
    {
     "data": {
      "text/plain": [
       "95621"
      ]
     },
     "execution_count": 88,
     "metadata": {},
     "output_type": "execute_result"
    }
   ],
   "source": [
    "#nr of publiations where at least on affiliation is known\n",
    "len(set(df_scholarly['id_select'][df_scholarly['affiliation']!= '']))"
   ]
  },
  {
   "cell_type": "code",
   "execution_count": 90,
   "metadata": {},
   "outputs": [
    {
     "data": {
      "text/plain": [
       "4536"
      ]
     },
     "execution_count": 90,
     "metadata": {},
     "output_type": "execute_result"
    }
   ],
   "source": [
    "len(set(df_scholarly['id_select'][df_scholarly['affiliation']== '']))"
   ]
  },
  {
   "cell_type": "code",
   "execution_count": 92,
   "metadata": {},
   "outputs": [
    {
     "data": {
      "text/plain": [
       "0"
      ]
     },
     "execution_count": 92,
     "metadata": {},
     "output_type": "execute_result"
    }
   ],
   "source": [
    "len(set(df_scholarly['id_select'][df_scholarly['id_select'] == '']))"
   ]
  }
 ],
 "metadata": {
  "kernelspec": {
   "display_name": "Python [conda env:base] *",
   "language": "python",
   "name": "conda-base-py"
  },
  "language_info": {
   "codemirror_mode": {
    "name": "ipython",
    "version": 3
   },
   "file_extension": ".py",
   "mimetype": "text/x-python",
   "name": "python",
   "nbconvert_exporter": "python",
   "pygments_lexer": "ipython3",
   "version": "3.12.7"
  }
 },
 "nbformat": 4,
 "nbformat_minor": 4
}
