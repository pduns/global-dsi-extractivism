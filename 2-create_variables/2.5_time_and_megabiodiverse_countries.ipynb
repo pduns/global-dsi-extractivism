{
 "cells": [
  {
   "cell_type": "code",
   "execution_count": 5,
   "metadata": {},
   "outputs": [
    {
     "name": "stdout",
     "output_type": "stream",
     "text": [
      "env: folder=X:\\5_Research\\Paul\\dsi_origins\\\n"
     ]
    }
   ],
   "source": [
    "from Bio import SeqIO\n",
    "from collections import Counter\n",
    "import pandas as pd \n",
    "import re\n",
    "import requests\n",
    "import json\n",
    "import time\n",
    "import glob\n",
    "import pprint\n",
    "import seaborn as sns\n",
    "\n",
    "from matplotlib.ticker import MaxNLocator\n",
    "from matplotlib.colors import ListedColormap\n",
    "import pycountry \n",
    "import pycountry_convert as pc\n",
    "pp = pprint.PrettyPrinter()\n",
    "import numpy as np\n",
    "from tabulate import tabulate\n",
    "import geopandas as gpd\n",
    "from geopandas import GeoDataFrame\n",
    "import matplotlib.pyplot as plt\n",
    "from shapely.geometry import Point, Polygon\n",
    "import regex as re\n",
    "import plotly.graph_objects as go\n",
    "import os\n",
    "\n",
    "import plotly.express as px\n",
    "\n",
    "%env folder = X:\\5_Research\\Paul\\dsi_origins\\"
   ]
  },
  {
   "cell_type": "code",
   "execution_count": 6,
   "metadata": {},
   "outputs": [],
   "source": [
    "#define path\n",
    "path = %env folder"
   ]
  },
  {
   "cell_type": "code",
   "execution_count": 7,
   "metadata": {},
   "outputs": [],
   "source": [
    "df = pd.read_csv(path+R'processed_data\\extractivism_com3_type.csv', index_col = 0, dtype={'id_select': 'str'})"
   ]
  },
  {
   "cell_type": "code",
   "execution_count": 8,
   "metadata": {},
   "outputs": [],
   "source": [
    "df_scholarly_country = pd.read_csv(path+R'processed_data\\coo_coor_linkages.csv', index_col = 0)"
   ]
  },
  {
   "cell_type": "code",
   "execution_count": 9,
   "metadata": {},
   "outputs": [],
   "source": [
    "df_scholarly = pd.read_csv(path+R'processed_data\\scholarly_aff.csv', index_col = 0)"
   ]
  },
  {
   "cell_type": "markdown",
   "metadata": {},
   "source": [
    "### 1. time"
   ]
  },
  {
   "cell_type": "code",
   "execution_count": 11,
   "metadata": {},
   "outputs": [],
   "source": [
    "df_year = pd.merge(df, df_scholarly[['id_select', 'year_published']].drop_duplicates(), how = 'left', on = 'id_select')"
   ]
  },
  {
   "cell_type": "code",
   "execution_count": 14,
   "metadata": {},
   "outputs": [],
   "source": [
    "#if a publication for some reason has 2 publishing dates given, take the first one (only applies to 2 pubs)\n",
    "index_to_del = []\n",
    "for k, v in Counter(df_year['id_select']).items(): \n",
    "    if v >= 2: \n",
    "        index_to_del = index_to_del + df_year[df_year['id_select'] == k].index.tolist()[1:]\n",
    "df_year_edit = df_year.drop(index_to_del)"
   ]
  },
  {
   "cell_type": "code",
   "execution_count": 15,
   "metadata": {},
   "outputs": [],
   "source": [
    "df_year_edit['after_nagoya'] = df_year_edit['year_published'].map(lambda x: 1.0 if x > 2014 else 0.0)"
   ]
  },
  {
   "cell_type": "code",
   "execution_count": 16,
   "metadata": {},
   "outputs": [
    {
     "data": {
      "text/plain": [
       "94598"
      ]
     },
     "execution_count": 16,
     "metadata": {},
     "output_type": "execute_result"
    }
   ],
   "source": [
    "len(set(df_year_edit['id_select'][df_year_edit['year_published'].notna()]))"
   ]
  },
  {
   "cell_type": "markdown",
   "metadata": {},
   "source": [
    "### 2. megabiodiverse"
   ]
  },
  {
   "cell_type": "code",
   "execution_count": 18,
   "metadata": {},
   "outputs": [],
   "source": [
    "df_megdiv = pd.merge(df_year_edit, df_scholarly_country[['id_select', 'ISO_ori']].drop_duplicates(), how = 'left')\n",
    "#define megabiodiv countries according to https://www.dffe.gov.za/group-minded-megadiverse-countries-lmmc\n",
    "megdiv_list = ['BO', 'BR', 'CN', 'CO', 'CR', 'CD', 'EC', 'IN', 'ID', 'KE', 'MG', 'MY', 'MX', 'PE', 'PH', 'ZA', 'VE', 'IR', 'ET', 'GT']\n",
    "df_megdiv['megadiv'] = df_megdiv['ISO_ori'].map(lambda x: 1.0 if x in megdiv_list else 0.0)"
   ]
  },
  {
   "cell_type": "code",
   "execution_count": 20,
   "metadata": {},
   "outputs": [],
   "source": [
    "megdiv_list_g77 = ['BO', 'CO', 'CR', 'CD', 'EC', 'ID', 'KE', 'MG', 'MY', 'MX', 'PE', 'PH', 'VE', 'IR', 'ET', 'GT']\n",
    "df_megdiv['megadiv_g77'] = df_megdiv['ISO_ori'].map(lambda x: 1.0 if x in megdiv_list_g77 else 0.0)\n",
    "\n",
    "megdiv_list_brics = ['BR', 'CN', 'IN', 'ZA']\n",
    "df_megdiv['megadiv_brics'] = df_megdiv['ISO_ori'].map(lambda x: 1.0 if x in megdiv_list_brics else 0.0)"
   ]
  },
  {
   "cell_type": "code",
   "execution_count": 21,
   "metadata": {
    "scrolled": true
   },
   "outputs": [
    {
     "name": "stdout",
     "output_type": "stream",
     "text": [
      "100\n",
      "200\n",
      "300\n",
      "400\n",
      "500\n",
      "600\n",
      "700\n",
      "800\n",
      "900\n",
      "1000\n",
      "1100\n",
      "1200\n",
      "1300\n",
      "1400\n",
      "1500\n",
      "1600\n",
      "1700\n",
      "1800\n",
      "1900\n",
      "2000\n",
      "2100\n",
      "2200\n",
      "2300\n",
      "2400\n",
      "2500\n",
      "2600\n",
      "2700\n",
      "2800\n",
      "2900\n",
      "3000\n",
      "3100\n",
      "3200\n",
      "3300\n",
      "3400\n",
      "3500\n",
      "3600\n",
      "3700\n",
      "3800\n",
      "3900\n"
     ]
    },
    {
     "name": "stderr",
     "output_type": "stream",
     "text": [
      "\n",
      "KeyboardInterrupt\n",
      "\n"
     ]
    }
   ],
   "source": [
    "# Initialize a dictionary to store entailment columns\n",
    "entailment_columns = ['megadiv','megadiv_g77','megadiv_brics']  # Add other categories as needed\n",
    "entails = {col: [] for col in entailment_columns}\n",
    "\n",
    "# Group the df_ids DataFrame by 'id_select' to perform calculations in bulk\n",
    "grouped_df = df_megdiv.groupby('id_select')\n",
    "selected_ids = list(set(df_megdiv['id_select']))\n",
    "\n",
    "# For each identifier, calculate entailments for all categories at once\n",
    "nr = 1\n",
    "for identifier in df_megdiv['id_select']:\n",
    "        # Select the group for the current identifier\n",
    "        df_id_select = grouped_df.get_group(identifier)\n",
    "\n",
    "        # Check each category and store entailment as 1 if any rows contain a positive value\n",
    "        for category in entailment_columns:\n",
    "            entails[category].append(int((df_id_select[category] > 0).any()))\n",
    "    \n",
    "    \n",
    "        if nr in range(0,100000,100):\n",
    "            print(nr)\n",
    "        nr = nr+1\n",
    "    \n",
    "# Convert dictionary to DataFrame if needed\n",
    "entails_megadiv_df = pd.DataFrame(entails)\n",
    "df_megdiv_final = df_megdiv.drop(columns = ['megadiv','megadiv_g77', 'megadiv_brics', 'ISO_ori']).join(entails_megadiv_df).drop_duplicates().reset_index(drop = True) # first drop the old megadiv column"
   ]
  },
  {
   "cell_type": "code",
   "execution_count": 53,
   "metadata": {},
   "outputs": [],
   "source": [
    "df_megdiv_final.to_csv(path+R'processed_data\\extractivism_com3_type_time.csv')"
   ]
  },
  {
   "cell_type": "code",
   "execution_count": null,
   "metadata": {},
   "outputs": [],
   "source": []
  },
  {
   "cell_type": "code",
   "execution_count": 51,
   "metadata": {},
   "outputs": [
    {
     "data": {
      "text/plain": [
       "[('CN', 17462),\n",
       " ('BR', 5314),\n",
       " ('IN', 5281),\n",
       " ('MX', 2799),\n",
       " ('ZA', 2546),\n",
       " ('IR', 1802),\n",
       " ('MY', 1491),\n",
       " ('ID', 1486),\n",
       " ('KE', 1309),\n",
       " ('PE', 1268),\n",
       " ('EC', 1095),\n",
       " ('CO', 1052),\n",
       " ('CR', 967),\n",
       " ('PH', 949),\n",
       " ('MG', 894),\n",
       " ('VE', 736),\n",
       " ('BO', 608),\n",
       " ('ET', 585),\n",
       " ('CD', 548),\n",
       " ('GT', 360)]"
      ]
     },
     "execution_count": 51,
     "metadata": {},
     "output_type": "execute_result"
    }
   ],
   "source": [
    "#where have \n",
    "Counter(df_megdiv['ISO_ori'][df_megdiv['megadiv'] == 1]).most_common()"
   ]
  },
  {
   "cell_type": "code",
   "execution_count": 51,
   "metadata": {},
   "outputs": [
    {
     "data": {
      "text/plain": [
       "0.39725998435484894"
      ]
     },
     "execution_count": 51,
     "metadata": {},
     "output_type": "execute_result"
    }
   ],
   "source": [
    "len(df_megdiv_final[df_megdiv_final['megadiv'] == 1])/len(df_megdiv_final)"
   ]
  },
  {
   "cell_type": "code",
   "execution_count": 53,
   "metadata": {},
   "outputs": [
    {
     "data": {
      "text/plain": [
       "94598"
      ]
     },
     "execution_count": 53,
     "metadata": {},
     "output_type": "execute_result"
    }
   ],
   "source": [
    "len(df_megdiv_final)"
   ]
  },
  {
   "cell_type": "code",
   "execution_count": 129,
   "metadata": {},
   "outputs": [
    {
     "data": {
      "text/plain": [
       "0.4646620542841937"
      ]
     },
     "execution_count": 129,
     "metadata": {},
     "output_type": "execute_result"
    }
   ],
   "source": [
    "#percentage of publications that have sourced from megabiodiverse: China \n",
    "len(df_megdiv[(df_megdiv['megadiv'] == 1) & (df_megdiv['ISO_ori'] == 'CN')])/len(df_megdiv_final[df_megdiv_final['megadiv'] == 1])"
   ]
  },
  {
   "cell_type": "code",
   "execution_count": 131,
   "metadata": {},
   "outputs": [
    {
     "data": {
      "text/plain": [
       "0.14140500266098988"
      ]
     },
     "execution_count": 131,
     "metadata": {},
     "output_type": "execute_result"
    }
   ],
   "source": [
    "#percentage of publications that have sourced from megabiodiverse: Brasil \n",
    "len(df_megdiv[(df_megdiv['megadiv'] == 1) & (df_megdiv['ISO_ori'] == 'BR')])/len(df_megdiv_final[df_megdiv_final['megadiv'] == 1])"
   ]
  },
  {
   "cell_type": "code",
   "execution_count": 133,
   "metadata": {},
   "outputs": [
    {
     "data": {
      "text/plain": [
       "0.1405268759978712"
      ]
     },
     "execution_count": 133,
     "metadata": {},
     "output_type": "execute_result"
    }
   ],
   "source": [
    "#percentage of publications that have sourced from megabiodiverse: India \n",
    "len(df_megdiv[(df_megdiv['megadiv'] == 1) & (df_megdiv['ISO_ori'] == 'IN')])/len(df_megdiv_final[df_megdiv_final['megadiv'] == 1])"
   ]
  },
  {
   "cell_type": "code",
   "execution_count": null,
   "metadata": {},
   "outputs": [],
   "source": []
  },
  {
   "cell_type": "code",
   "execution_count": 53,
   "metadata": {},
   "outputs": [
    {
     "data": {
      "text/plain": [
       "[('MX', 2799),\n",
       " ('IR', 1802),\n",
       " ('MY', 1491),\n",
       " ('ID', 1486),\n",
       " ('KE', 1309),\n",
       " ('PE', 1268),\n",
       " ('EC', 1095),\n",
       " ('CO', 1052),\n",
       " ('CR', 967),\n",
       " ('PH', 949),\n",
       " ('MG', 894),\n",
       " ('VE', 736),\n",
       " ('BO', 608),\n",
       " ('ET', 585),\n",
       " ('CD', 548),\n",
       " ('GT', 360)]"
      ]
     },
     "execution_count": 53,
     "metadata": {},
     "output_type": "execute_result"
    }
   ],
   "source": [
    "#filtered version \n",
    "Counter(df_megdiv['ISO_ori'][df_megdiv['megadiv_g77'] == 1]).most_common()"
   ]
  },
  {
   "cell_type": "code",
   "execution_count": 37,
   "metadata": {},
   "outputs": [
    {
     "data": {
      "text/plain": [
       "0.12583775555508572"
      ]
     },
     "execution_count": 37,
     "metadata": {},
     "output_type": "execute_result"
    }
   ],
   "source": [
    "#filtered version\n",
    "len(df_megdiv_final[df_megdiv_final['megadiv_g77'] == 1])/len(df_megdiv_final)\n"
   ]
  },
  {
   "cell_type": "code",
   "execution_count": 43,
   "metadata": {},
   "outputs": [
    {
     "data": {
      "text/plain": [
       "0.23513104838709678"
      ]
     },
     "execution_count": 43,
     "metadata": {},
     "output_type": "execute_result"
    }
   ],
   "source": [
    "#percentage of publications that have sourced from megabiodiverse: China \n",
    "len(df_megdiv[(df_megdiv['megadiv_g77'] == 1) & (df_megdiv['ISO_ori'] == 'MX')])/len(df_megdiv_final[df_megdiv_final['megadiv_g77'] == 1])"
   ]
  },
  {
   "cell_type": "code",
   "execution_count": 45,
   "metadata": {},
   "outputs": [
    {
     "data": {
      "text/plain": [
       "0.151377688172043"
      ]
     },
     "execution_count": 45,
     "metadata": {},
     "output_type": "execute_result"
    }
   ],
   "source": [
    "#percentage of publications that have sourced from megabiodiverse: China \n",
    "len(df_megdiv[(df_megdiv['megadiv_g77'] == 1) & (df_megdiv['ISO_ori'] == 'IR')])/len(df_megdiv_final[df_megdiv_final['megadiv_g77'] == 1])"
   ]
  },
  {
   "cell_type": "code",
   "execution_count": 47,
   "metadata": {},
   "outputs": [
    {
     "data": {
      "text/plain": [
       "0.12525201612903225"
      ]
     },
     "execution_count": 47,
     "metadata": {},
     "output_type": "execute_result"
    }
   ],
   "source": [
    "#percentage of publications that have sourced from megabiodiverse: China \n",
    "len(df_megdiv[(df_megdiv['megadiv_g77'] == 1) & (df_megdiv['ISO_ori'] == 'MY')])/len(df_megdiv_final[df_megdiv_final['megadiv_g77'] == 1])"
   ]
  },
  {
   "cell_type": "code",
   "execution_count": null,
   "metadata": {},
   "outputs": [],
   "source": []
  }
 ],
 "metadata": {
  "kernelspec": {
   "display_name": "Python [conda env:base] *",
   "language": "python",
   "name": "conda-base-py"
  },
  "language_info": {
   "codemirror_mode": {
    "name": "ipython",
    "version": 3
   },
   "file_extension": ".py",
   "mimetype": "text/x-python",
   "name": "python",
   "nbconvert_exporter": "python",
   "pygments_lexer": "ipython3",
   "version": "3.12.7"
  }
 },
 "nbformat": 4,
 "nbformat_minor": 4
}
