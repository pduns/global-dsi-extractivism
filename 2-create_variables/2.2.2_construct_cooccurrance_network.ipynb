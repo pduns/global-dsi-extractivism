{
 "cells": [
  {
   "cell_type": "code",
   "execution_count": 32,
   "metadata": {},
   "outputs": [
    {
     "name": "stdout",
     "output_type": "stream",
     "text": [
      "env: folder=X:\\5_Research\\Paul\\dsi_origins\\\n"
     ]
    }
   ],
   "source": [
    "from Bio import SeqIO\n",
    "from collections import Counter\n",
    "import pandas as pd \n",
    "import re\n",
    "import requests\n",
    "import json\n",
    "import time\n",
    "import glob\n",
    "import pprint\n",
    "import seaborn as sns\n",
    "import pylab as plt\n",
    "from matplotlib.ticker import MaxNLocator\n",
    "from matplotlib.colors import ListedColormap\n",
    "import pycountry \n",
    "import pycountry_convert as pc\n",
    "pp = pprint.PrettyPrinter()\n",
    "import numpy as np\n",
    "from tabulate import tabulate\n",
    "import geopandas as gpd\n",
    "from geopandas import GeoDataFrame\n",
    "import matplotlib.pyplot as plt\n",
    "from shapely.geometry import Point, Polygon\n",
    "import regex as re\n",
    "import plotly.graph_objects as go\n",
    "import os\n",
    "\n",
    "from string import punctuation\n",
    "from nltk.stem.snowball import SnowballStemmer\n",
    "from nltk.corpus import stopwords\n",
    "from nltk.stem import WordNetLemmatizer\n",
    "from nltk.tokenize import word_tokenize\n",
    "from nltk.corpus import wordnet\n",
    "import nltk\n",
    "from bs4 import BeautifulSoup\n",
    "import backboning\n",
    "\n",
    "\n",
    " \n",
    "\n",
    "stemmer=SnowballStemmer(\"english\")\n",
    "import sklearn\n",
    "from sklearn.feature_extraction.text import CountVectorizer\n",
    "\n",
    "import networkx as nx\n",
    "from collections import defaultdict\n",
    "from itertools import combinations\n",
    "#from fa2 import ForceAtlas2\n",
    "\n",
    "import textmining\n",
    "  \n",
    "\n",
    "%env folder = X:\\5_Research\\Paul\\dsi_origins\\"
   ]
  },
  {
   "cell_type": "code",
   "execution_count": 2,
   "metadata": {},
   "outputs": [],
   "source": [
    "path = %env folder"
   ]
  },
  {
   "cell_type": "markdown",
   "metadata": {},
   "source": [
    "### 1. Construct co-occurance network"
   ]
  },
  {
   "cell_type": "code",
   "execution_count": 4,
   "metadata": {},
   "outputs": [],
   "source": [
    "df_scholarly_clean = pd.read_csv(path+R'processed_data\\scholarly_cleaned_tfidf.csv')"
   ]
  },
  {
   "cell_type": "code",
   "execution_count": 5,
   "metadata": {},
   "outputs": [],
   "source": [
    "df_scholarly_clean_nd = df_scholarly_clean[['id_select','title_clean_tfidf']].drop_duplicates().dropna()"
   ]
  },
  {
   "cell_type": "code",
   "execution_count": 8,
   "metadata": {},
   "outputs": [],
   "source": [
    "titles_cleaned_tfidf_nd = df_scholarly_clean_nd['title_clean_tfidf'].tolist()"
   ]
  },
  {
   "cell_type": "code",
   "execution_count": 14,
   "metadata": {},
   "outputs": [
    {
     "data": {
      "text/plain": [
       "94600"
      ]
     },
     "execution_count": 14,
     "metadata": {},
     "output_type": "execute_result"
    }
   ],
   "source": [
    "len(titles_cleaned_tfidf_nd)"
   ]
  },
  {
   "cell_type": "code",
   "execution_count": 16,
   "metadata": {},
   "outputs": [],
   "source": [
    "#creat the word-combination edgesx\n",
    "cooc=defaultdict(int)\n",
    "for title in titles_cleaned_tfidf_nd: \n",
    "    words=title.split()\n",
    "    for a,b in set(combinations(words,2)): \n",
    "        if (b,a) in cooc: \n",
    "            a,b = b,a \n",
    "        if a!=b: \n",
    "            cooc[(a,b)]+=1 \n",
    "            \n",
    "#for combi in sorted(cooc,key=cooc.get,reverse=True): \n",
    "#    print (cooc[combi],\"\\t\",combi)"
   ]
  },
  {
   "cell_type": "code",
   "execution_count": 18,
   "metadata": {},
   "outputs": [],
   "source": [
    "origin = []\n",
    "destiny = []\n",
    "count = []\n",
    "for edge in list(cooc.keys()): \n",
    "    origin.append(edge[0])\n",
    "    destiny.append(edge[1])\n",
    "    count.append(cooc[edge])\n",
    "    "
   ]
  },
  {
   "cell_type": "code",
   "execution_count": 19,
   "metadata": {},
   "outputs": [],
   "source": [
    "# Save data for backboning\n",
    "df_coocurrance = pd.DataFrame(zip(origin, destiny, count), columns = ['source','target','weight'])\n",
    "df_coocurrance.to_csv(path+R'processed_data\\co_word_network_titles_+2tfidf.csv')    \n"
   ]
  },
  {
   "cell_type": "code",
   "execution_count": 22,
   "metadata": {},
   "outputs": [
    {
     "data": {
      "text/html": [
       "<div>\n",
       "<style scoped>\n",
       "    .dataframe tbody tr th:only-of-type {\n",
       "        vertical-align: middle;\n",
       "    }\n",
       "\n",
       "    .dataframe tbody tr th {\n",
       "        vertical-align: top;\n",
       "    }\n",
       "\n",
       "    .dataframe thead th {\n",
       "        text-align: right;\n",
       "    }\n",
       "</style>\n",
       "<table border=\"1\" class=\"dataframe\">\n",
       "  <thead>\n",
       "    <tr style=\"text-align: right;\">\n",
       "      <th></th>\n",
       "      <th>source</th>\n",
       "      <th>target</th>\n",
       "      <th>weight</th>\n",
       "    </tr>\n",
       "  </thead>\n",
       "  <tbody>\n",
       "    <tr>\n",
       "      <th>0</th>\n",
       "      <td>major</td>\n",
       "      <td>despite</td>\n",
       "      <td>1</td>\n",
       "    </tr>\n",
       "    <tr>\n",
       "      <th>1</th>\n",
       "      <td>major</td>\n",
       "      <td>histocompatibility</td>\n",
       "      <td>50</td>\n",
       "    </tr>\n",
       "    <tr>\n",
       "      <th>2</th>\n",
       "      <td>major</td>\n",
       "      <td>balance</td>\n",
       "      <td>6</td>\n",
       "    </tr>\n",
       "    <tr>\n",
       "      <th>3</th>\n",
       "      <td>despite</td>\n",
       "      <td>selection</td>\n",
       "      <td>5</td>\n",
       "    </tr>\n",
       "    <tr>\n",
       "      <th>4</th>\n",
       "      <td>balancing</td>\n",
       "      <td>mating</td>\n",
       "      <td>1</td>\n",
       "    </tr>\n",
       "    <tr>\n",
       "      <th>...</th>\n",
       "      <td>...</td>\n",
       "      <td>...</td>\n",
       "      <td>...</td>\n",
       "    </tr>\n",
       "    <tr>\n",
       "      <th>1228382</th>\n",
       "      <td>﻿two</td>\n",
       "      <td>andes</td>\n",
       "      <td>1</td>\n",
       "    </tr>\n",
       "    <tr>\n",
       "      <th>1228383</th>\n",
       "      <td>strabomantidae</td>\n",
       "      <td>biogeography</td>\n",
       "      <td>1</td>\n",
       "    </tr>\n",
       "    <tr>\n",
       "      <th>1228384</th>\n",
       "      <td>identity</td>\n",
       "      <td>unionidae</td>\n",
       "      <td>1</td>\n",
       "    </tr>\n",
       "    <tr>\n",
       "      <th>1228385</th>\n",
       "      <td>unionidae</td>\n",
       "      <td>phylogenetics</td>\n",
       "      <td>1</td>\n",
       "    </tr>\n",
       "    <tr>\n",
       "      <th>1228386</th>\n",
       "      <td>identity</td>\n",
       "      <td>bivalvia</td>\n",
       "      <td>1</td>\n",
       "    </tr>\n",
       "  </tbody>\n",
       "</table>\n",
       "<p>1228387 rows × 3 columns</p>\n",
       "</div>"
      ],
      "text/plain": [
       "                 source              target  weight\n",
       "0                 major             despite       1\n",
       "1                 major  histocompatibility      50\n",
       "2                 major             balance       6\n",
       "3               despite           selection       5\n",
       "4             balancing              mating       1\n",
       "...                 ...                 ...     ...\n",
       "1228382            ﻿two               andes       1\n",
       "1228383  strabomantidae        biogeography       1\n",
       "1228384        identity           unionidae       1\n",
       "1228385       unionidae       phylogenetics       1\n",
       "1228386        identity            bivalvia       1\n",
       "\n",
       "[1228387 rows x 3 columns]"
      ]
     },
     "execution_count": 22,
     "metadata": {},
     "output_type": "execute_result"
    }
   ],
   "source": [
    "df_coocurrance"
   ]
  },
  {
   "cell_type": "code",
   "execution_count": 24,
   "metadata": {},
   "outputs": [],
   "source": [
    "# Save data for backboning\n",
    "df_coocurrance_backboning = pd.DataFrame(zip(origin, destiny, count), columns = ['src','trg','nij'])"
   ]
  },
  {
   "cell_type": "code",
   "execution_count": 26,
   "metadata": {},
   "outputs": [],
   "source": [
    "df_coocurrance_backboning.to_csv(path+R'processed_data\\co_word_network_titles_+2tfidf_backboning.csv')    \n"
   ]
  },
  {
   "cell_type": "code",
   "execution_count": 28,
   "metadata": {},
   "outputs": [],
   "source": [
    "G = nx.from_pandas_edgelist(\n",
    "    df_coocurrance,\n",
    "    #edge_key=\"my_edge_key\",\n",
    "    edge_attr=[\"weight\"],\n",
    "    create_using=nx.Graph(),\n",
    "    )\n",
    "\n",
    "nx.write_gexf(G, path+R\"processed_data\\co_word_network_+2tfidf.gexf\")"
   ]
  },
  {
   "cell_type": "code",
   "execution_count": 29,
   "metadata": {},
   "outputs": [
    {
     "data": {
      "text/plain": [
       "[<matplotlib.lines.Line2D at 0x277da0f0e00>]"
      ]
     },
     "execution_count": 29,
     "metadata": {},
     "output_type": "execute_result"
    },
    {
     "data": {
      "image/png": "[encoded data removed]",
      "text/plain": [
       "<Figure size 640x480 with 1 Axes>"
      ]
     },
     "metadata": {},
     "output_type": "display_data"
    }
   ],
   "source": [
    "plt.plot([np.log10(x) for x in list(df_coocurrance_backboning['nij'])])"
   ]
  },
  {
   "cell_type": "code",
   "execution_count": 34,
   "metadata": {},
   "outputs": [
    {
     "name": "stderr",
     "output_type": "stream",
     "text": [
      "Calculating NC score...\n"
     ]
    },
    {
     "data": {
      "text/html": [
       "<div>\n",
       "<style scoped>\n",
       "    .dataframe tbody tr th:only-of-type {\n",
       "        vertical-align: middle;\n",
       "    }\n",
       "\n",
       "    .dataframe tbody tr th {\n",
       "        vertical-align: top;\n",
       "    }\n",
       "\n",
       "    .dataframe thead th {\n",
       "        text-align: right;\n",
       "    }\n",
       "</style>\n",
       "<table border=\"1\" class=\"dataframe\">\n",
       "  <thead>\n",
       "    <tr style=\"text-align: right;\">\n",
       "      <th></th>\n",
       "      <th>src</th>\n",
       "      <th>trg</th>\n",
       "      <th>nij</th>\n",
       "      <th>score</th>\n",
       "    </tr>\n",
       "  </thead>\n",
       "  <tbody>\n",
       "    <tr>\n",
       "      <th>3</th>\n",
       "      <td>despite</td>\n",
       "      <td>selection</td>\n",
       "      <td>5</td>\n",
       "      <td>0.875414</td>\n",
       "    </tr>\n",
       "    <tr>\n",
       "      <th>4</th>\n",
       "      <td>balancing</td>\n",
       "      <td>mating</td>\n",
       "      <td>1</td>\n",
       "      <td>0.997313</td>\n",
       "    </tr>\n",
       "    <tr>\n",
       "      <th>5</th>\n",
       "      <td>mating</td>\n",
       "      <td>selection</td>\n",
       "      <td>5</td>\n",
       "      <td>0.949633</td>\n",
       "    </tr>\n",
       "    <tr>\n",
       "      <th>7</th>\n",
       "      <td>balance</td>\n",
       "      <td>despite</td>\n",
       "      <td>2</td>\n",
       "      <td>0.966490</td>\n",
       "    </tr>\n",
       "    <tr>\n",
       "      <th>8</th>\n",
       "      <td>histocompatibility</td>\n",
       "      <td>signature</td>\n",
       "      <td>1</td>\n",
       "      <td>0.932954</td>\n",
       "    </tr>\n",
       "    <tr>\n",
       "      <th>...</th>\n",
       "      <td>...</td>\n",
       "      <td>...</td>\n",
       "      <td>...</td>\n",
       "      <td>...</td>\n",
       "    </tr>\n",
       "    <tr>\n",
       "      <th>1228366</th>\n",
       "      <td>feather</td>\n",
       "      <td>scolopacidae</td>\n",
       "      <td>1</td>\n",
       "      <td>0.997416</td>\n",
       "    </tr>\n",
       "    <tr>\n",
       "      <th>1228372</th>\n",
       "      <td>insight</td>\n",
       "      <td>skull</td>\n",
       "      <td>1</td>\n",
       "      <td>0.954666</td>\n",
       "    </tr>\n",
       "    <tr>\n",
       "      <th>1228376</th>\n",
       "      <td>frog</td>\n",
       "      <td>skull</td>\n",
       "      <td>1</td>\n",
       "      <td>0.982580</td>\n",
       "    </tr>\n",
       "    <tr>\n",
       "      <th>1228381</th>\n",
       "      <td>andes</td>\n",
       "      <td>skull</td>\n",
       "      <td>1</td>\n",
       "      <td>0.998316</td>\n",
       "    </tr>\n",
       "    <tr>\n",
       "      <th>1228384</th>\n",
       "      <td>identity</td>\n",
       "      <td>unionidae</td>\n",
       "      <td>1</td>\n",
       "      <td>0.940523</td>\n",
       "    </tr>\n",
       "  </tbody>\n",
       "</table>\n",
       "<p>590133 rows × 4 columns</p>\n",
       "</div>"
      ],
      "text/plain": [
       "                        src           trg  nij     score\n",
       "3                   despite     selection    5  0.875414\n",
       "4                 balancing        mating    1  0.997313\n",
       "5                    mating     selection    5  0.949633\n",
       "7                   balance       despite    2  0.966490\n",
       "8        histocompatibility     signature    1  0.932954\n",
       "...                     ...           ...  ...       ...\n",
       "1228366             feather  scolopacidae    1  0.997416\n",
       "1228372             insight         skull    1  0.954666\n",
       "1228376                frog         skull    1  0.982580\n",
       "1228381               andes         skull    1  0.998316\n",
       "1228384            identity     unionidae    1  0.940523\n",
       "\n",
       "[590133 rows x 4 columns]"
      ]
     },
     "execution_count": 34,
     "metadata": {},
     "output_type": "execute_result"
    }
   ],
   "source": [
    "# Apply backboning process\n",
    "nc_table = backboning.noise_corrected(df_coocurrance_backboning, undirected = True)\n",
    "threshold_value = 0.9  # Adjust as required\n",
    "nc_backbone_90 = backboning.thresholding(nc_table, threshold_value)\n",
    "\n",
    "# Convert back to networkx graph if needed\n",
    "G_backbone_90 = nx.from_pandas_edgelist(nc_backbone_90.rename(columns= {'nij':'weight'}), source='src', target='trg', edge_attr=True)\n",
    "\n",
    "nx.write_gexf(G_backbone_90, path+R\"processed_data\\co_word_network_+2tfidf_backbone_90.gexf\")\n",
    "\n",
    "nc_backbone_90"
   ]
  },
  {
   "cell_type": "code",
   "execution_count": null,
   "metadata": {},
   "outputs": [],
   "source": []
  }
 ],
 "metadata": {
  "kernelspec": {
   "display_name": "Python [conda env:base] *",
   "language": "python",
   "name": "conda-base-py"
  },
  "language_info": {
   "codemirror_mode": {
    "name": "ipython",
    "version": 3
   },
   "file_extension": ".py",
   "mimetype": "text/x-python",
   "name": "python",
   "nbconvert_exporter": "python",
   "pygments_lexer": "ipython3",
   "version": "3.12.7"
  }
 },
 "nbformat": 4,
 "nbformat_minor": 4
}
